{
 "cells": [
  {
   "cell_type": "code",
   "execution_count": 57,
   "metadata": {},
   "outputs": [],
   "source": [
    "import sys\n",
    "import requests\n",
    "import pandas as pd\n",
    "import xlsxwriter\n",
    "from json import loads\n",
    "from datetime import date"
   ]
  },
  {
   "cell_type": "markdown",
   "metadata": {},
   "source": [
    "### Function for Transforming DataFrame in Excel Object"
   ]
  },
  {
   "cell_type": "code",
   "execution_count": 16,
   "metadata": {},
   "outputs": [],
   "source": [
    "#Function for Writing .xlsx Data Tables which will provide a standard output for table formatting \n",
    "def xlsx_table_writer(data_table,sheet_name,col_width_list,title_str,startrow,startcol,worksheet,workbook,writer):\n",
    "\n",
    "    #Layout/Formatting\n",
    "    t_vert_spacing = 5 #Vertical Spacing between tables\n",
    "    t_horz_spacing = 1 #Horizontal Spacing between tables\n",
    "    title_format = workbook.add_format({'bold': True, 'font_size' : 20, 'fg_color' : '#76933C', 'font_color' : 'white' }) #Standardised Title Format for all tables\n",
    "    header_format = workbook.add_format({'bold' : True, 'font_size' : 12, 'text_wrap' : True}) #text-wrapping for table headers\n",
    "    \n",
    "    # Adding and changing active sheet\n",
    "    try:\n",
    "        worksheet=workbook.add_worksheet(sheet_name)\n",
    "        writer.sheets[sheet_name] = worksheet \n",
    "        worksheet.set_zoom(70)\n",
    "        startrow = 3\n",
    "        startcol = 1\n",
    "    except:\n",
    "        pass\n",
    "\n",
    "    for i in range(len(col_width_list)):\n",
    "        worksheet.set_column(i+startcol, i+startcol, col_width_list[i])\n",
    "\n",
    "    #Writing in Cell Data and Merging Cells for Table Titles\n",
    "    data_table.to_excel(writer,sheet_name=sheet_name,startrow=startrow , startcol=startcol, index=False, header=False)\n",
    "    worksheet.merge_range(startrow-2, startcol,startrow-2,data_table.shape[1] + startcol -1, title_str,title_format) #writing in title formatting above table\n",
    "\n",
    "    #Column settings to use in add table function\n",
    "    column_settings = [{'header' : column} for column in data_table.columns]\n",
    "\n",
    "    #Populating Excel with Table Format - Adding table to xls for each df\n",
    "    worksheet.add_table(startrow-1, startcol, startrow + data_table.shape[0]-1, data_table.shape[1] + startcol - 1, {'columns' : column_settings, 'style': 'Table Style Medium 4', 'autofilter' : False})   \n",
    "\n",
    "    #Applying a text wrap to the Column Header\n",
    "    for col_num, value in enumerate(data_table.columns.values):\n",
    "        worksheet.write(startrow-1, col_num + startcol, value, header_format)\n",
    "    \n",
    "    #Setting Positions of Following Tables Insertions\n",
    "    startrow = startrow + data_table.shape[0] + t_vert_spacing #Setting to start row for next table\n",
    "    # startrow = 3  \n",
    "    # startcol = startcol + data_table.shape[1] + t_horz_spacing  #Disabling horizontally displaced tables in favour of vertically displacements\n",
    "    startcol = 1\n",
    "\n",
    "    #Setting the column width at the end of the table to keep to spacing minimal between tables\n",
    "    worksheet.set_column(startcol-1,startcol-1,1)\n",
    "    \n",
    "    #Return the start row in order to index for future function calls\n",
    "    return [startrow,startcol,worksheet,workbook,writer]"
   ]
  },
  {
   "cell_type": "code",
   "execution_count": 5,
   "metadata": {},
   "outputs": [],
   "source": [
    "#Function to Detect Operating System and Adjust Pathing to Respective Filesystem\n",
    "def pathing(folder_path,filename):\n",
    "\n",
    "    #Windows Operating System\n",
    "    if 'win' in sys.platform:\n",
    "        if folder_path == 'root':\n",
    "            filepath = f'{sys.path[0]}\\\\{filename}'\n",
    "        else:\n",
    "            filepath = f'{sys.path[0]}\\\\{folder_path}\\\\{filename}'\n",
    "    #Linux/Mac Operating Sytem\n",
    "    else:\n",
    "        if folder_path == 'root':\n",
    "            filepath = f'{sys.path[0]}/{filename}'\n",
    "        else:\n",
    "            filepath = f'{sys.path[0]}/{folder_path}/{filename}'\n",
    "\n",
    "    return filepath"
   ]
  },
  {
   "cell_type": "markdown",
   "metadata": {},
   "source": [
    "### User Inputs"
   ]
  },
  {
   "cell_type": "code",
   "execution_count": 6,
   "metadata": {},
   "outputs": [],
   "source": [
    "user = \"Filpill\""
   ]
  },
  {
   "cell_type": "markdown",
   "metadata": {},
   "source": [
    "### User Overview"
   ]
  },
  {
   "cell_type": "code",
   "execution_count": 76,
   "metadata": {},
   "outputs": [
    {
     "name": "stdout",
     "output_type": "stream",
     "text": [
      "Status: 200\n"
     ]
    },
    {
     "data": {
      "text/html": [
       "<div>\n",
       "<style scoped>\n",
       "    .dataframe tbody tr th:only-of-type {\n",
       "        vertical-align: middle;\n",
       "    }\n",
       "\n",
       "    .dataframe tbody tr th {\n",
       "        vertical-align: top;\n",
       "    }\n",
       "\n",
       "    .dataframe thead th {\n",
       "        text-align: right;\n",
       "    }\n",
       "</style>\n",
       "<table border=\"1\" class=\"dataframe\">\n",
       "  <thead>\n",
       "    <tr style=\"text-align: right;\">\n",
       "      <th></th>\n",
       "      <th>username</th>\n",
       "      <th>honor</th>\n",
       "      <th>leaderboardPosition</th>\n",
       "      <th>ranks.overall.name</th>\n",
       "      <th>ranks.overall.score</th>\n",
       "      <th>ranks.languages.python.score</th>\n",
       "      <th>ranks.languages.sql.score</th>\n",
       "      <th>codeChallenges.totalCompleted</th>\n",
       "    </tr>\n",
       "  </thead>\n",
       "  <tbody>\n",
       "    <tr>\n",
       "      <th>0</th>\n",
       "      <td>Filpill</td>\n",
       "      <td>1016</td>\n",
       "      <td>23238</td>\n",
       "      <td>4 kyu</td>\n",
       "      <td>1405</td>\n",
       "      <td>923</td>\n",
       "      <td>482</td>\n",
       "      <td>86</td>\n",
       "    </tr>\n",
       "  </tbody>\n",
       "</table>\n",
       "</div>"
      ],
      "text/plain": [
       "  username  honor  leaderboardPosition ranks.overall.name  \\\n",
       "0  Filpill   1016                23238              4 kyu   \n",
       "\n",
       "   ranks.overall.score  ranks.languages.python.score  \\\n",
       "0                 1405                           923   \n",
       "\n",
       "   ranks.languages.sql.score  codeChallenges.totalCompleted  \n",
       "0                        482                             86  "
      ]
     },
     "execution_count": 76,
     "metadata": {},
     "output_type": "execute_result"
    }
   ],
   "source": [
    "url = f\"https://www.codewars.com/api/v1/users/{user}\"\n",
    "response = requests.get(url)\n",
    "json_data = loads(response.text)\n",
    "print(\"Status:\",response.status_code)\n",
    "curated_cols = ['username','honor','leaderboardPosition','ranks.overall.name','ranks.languages.python.score','ranks.languages.sql.score','ranks.overall.score','codeChallenges.totalCompleted']\n",
    "df_profile = pd.json_normalize(json_data)\n",
    "profile_cols = list(df_profile.columns)\n",
    "df_profile = df_profile[df_profile.columns.intersection(curated_cols)]\n",
    "df_profile"
   ]
  },
  {
   "cell_type": "markdown",
   "metadata": {},
   "source": [
    "### List of Completed Challenges"
   ]
  },
  {
   "cell_type": "code",
   "execution_count": 65,
   "metadata": {},
   "outputs": [
    {
     "name": "stdout",
     "output_type": "stream",
     "text": [
      "Status: 200\n",
      "<class 'pandas._libs.tslibs.timestamps.Timestamp'>\n"
     ]
    },
    {
     "data": {
      "text/html": [
       "<div>\n",
       "<style scoped>\n",
       "    .dataframe tbody tr th:only-of-type {\n",
       "        vertical-align: middle;\n",
       "    }\n",
       "\n",
       "    .dataframe tbody tr th {\n",
       "        vertical-align: top;\n",
       "    }\n",
       "\n",
       "    .dataframe thead th {\n",
       "        text-align: right;\n",
       "    }\n",
       "</style>\n",
       "<table border=\"1\" class=\"dataframe\">\n",
       "  <thead>\n",
       "    <tr style=\"text-align: right;\">\n",
       "      <th></th>\n",
       "      <th>id</th>\n",
       "      <th>name</th>\n",
       "      <th>completedLanguages</th>\n",
       "      <th>completedAt</th>\n",
       "      <th>Completion Period</th>\n",
       "    </tr>\n",
       "  </thead>\n",
       "  <tbody>\n",
       "    <tr>\n",
       "      <th>0</th>\n",
       "      <td>5324945e2ece5e1f32000370</td>\n",
       "      <td>Sum Strings as Numbers</td>\n",
       "      <td>[python]</td>\n",
       "      <td>2022-11-11</td>\n",
       "      <td>Nov-22</td>\n",
       "    </tr>\n",
       "    <tr>\n",
       "      <th>1</th>\n",
       "      <td>521c2db8ddc89b9b7a0000c1</td>\n",
       "      <td>Snail</td>\n",
       "      <td>[python]</td>\n",
       "      <td>2022-11-09</td>\n",
       "      <td>Nov-22</td>\n",
       "    </tr>\n",
       "  </tbody>\n",
       "</table>\n",
       "</div>"
      ],
      "text/plain": [
       "                         id                    name completedLanguages  \\\n",
       "0  5324945e2ece5e1f32000370  Sum Strings as Numbers           [python]   \n",
       "1  521c2db8ddc89b9b7a0000c1                   Snail           [python]   \n",
       "\n",
       "  completedAt Completion Period  \n",
       "0  2022-11-11            Nov-22  \n",
       "1  2022-11-09            Nov-22  "
      ]
     },
     "execution_count": 65,
     "metadata": {},
     "output_type": "execute_result"
    }
   ],
   "source": [
    "page = 0\n",
    "url = f\"https://www.codewars.com/api/v1/users/{user}/code-challenges/completed?page={page}\"\n",
    "response = requests.get(url)\n",
    "json_data = loads(response.text)\n",
    "print(\"Status:\",response.status_code)\n",
    "raw_data = pd.json_normalize(json_data)\n",
    "df_complete = pd.DataFrame.from_dict(raw_data.loc[0,'data'])\n",
    "df_complete.drop(columns = 'slug',inplace=True)\n",
    "for i,dt in enumerate(df_complete['completedAt']): df_complete.loc[i,'completedAt'] = dt[0:10] #Fixing Date Formats, Only extracting date component\n",
    "df_complete['completedAt'] = pd.to_datetime(df_complete['completedAt'],format='%Y-%m-%d')\n",
    "df_complete['Completion Period'] = df_complete['completedAt'].dt.strftime(\"%b-%y\")\n",
    "print(type(df_complete['completedAt'][0]))\n",
    "completed_list = list(df_complete['id'])\n",
    "df_complete.head(2)"
   ]
  },
  {
   "cell_type": "markdown",
   "metadata": {},
   "source": [
    "### Getting Details of Code Challenges Completed By User"
   ]
  },
  {
   "cell_type": "code",
   "execution_count": 9,
   "metadata": {},
   "outputs": [
    {
     "data": {
      "text/html": [
       "<div>\n",
       "<style scoped>\n",
       "    .dataframe tbody tr th:only-of-type {\n",
       "        vertical-align: middle;\n",
       "    }\n",
       "\n",
       "    .dataframe tbody tr th {\n",
       "        vertical-align: top;\n",
       "    }\n",
       "\n",
       "    .dataframe thead th {\n",
       "        text-align: right;\n",
       "    }\n",
       "</style>\n",
       "<table border=\"1\" class=\"dataframe\">\n",
       "  <thead>\n",
       "    <tr style=\"text-align: right;\">\n",
       "      <th></th>\n",
       "      <th>id</th>\n",
       "      <th>name</th>\n",
       "      <th>slug</th>\n",
       "      <th>category</th>\n",
       "      <th>publishedAt</th>\n",
       "      <th>approvedAt</th>\n",
       "      <th>languages</th>\n",
       "      <th>url</th>\n",
       "      <th>createdAt</th>\n",
       "      <th>description</th>\n",
       "      <th>...</th>\n",
       "      <th>contributorsWanted</th>\n",
       "      <th>rank.id</th>\n",
       "      <th>rank.name</th>\n",
       "      <th>rank.color</th>\n",
       "      <th>createdBy.username</th>\n",
       "      <th>createdBy.url</th>\n",
       "      <th>approvedBy.username</th>\n",
       "      <th>approvedBy.url</th>\n",
       "      <th>unresolved.issues</th>\n",
       "      <th>unresolved.suggestions</th>\n",
       "    </tr>\n",
       "  </thead>\n",
       "  <tbody>\n",
       "    <tr>\n",
       "      <th>0</th>\n",
       "      <td>5324945e2ece5e1f32000370</td>\n",
       "      <td>Sum Strings as Numbers</td>\n",
       "      <td>sum-strings-as-numbers</td>\n",
       "      <td>algorithms</td>\n",
       "      <td>2014-03-15T17:58:42.203Z</td>\n",
       "      <td>2014-03-31T19:33:53.949Z</td>\n",
       "      <td>[javascript, csharp, php, cpp, c, java, lua, p...</td>\n",
       "      <td>https://www.codewars.com/kata/5324945e2ece5e1f...</td>\n",
       "      <td>2014-03-15T17:56:46.451Z</td>\n",
       "      <td>Given the string representations of two intege...</td>\n",
       "      <td>...</td>\n",
       "      <td>False</td>\n",
       "      <td>-4</td>\n",
       "      <td>4 kyu</td>\n",
       "      <td>blue</td>\n",
       "      <td>nicknovitski</td>\n",
       "      <td>https://www.codewars.com/users/nicknovitski</td>\n",
       "      <td>jhoffner</td>\n",
       "      <td>https://www.codewars.com/users/jhoffner</td>\n",
       "      <td>14</td>\n",
       "      <td>6</td>\n",
       "    </tr>\n",
       "    <tr>\n",
       "      <th>0</th>\n",
       "      <td>521c2db8ddc89b9b7a0000c1</td>\n",
       "      <td>Snail</td>\n",
       "      <td>snail</td>\n",
       "      <td>algorithms</td>\n",
       "      <td>2013-08-28T04:56:02.580Z</td>\n",
       "      <td>None</td>\n",
       "      <td>[ruby, coffeescript, javascript, python, haske...</td>\n",
       "      <td>https://www.codewars.com/kata/521c2db8ddc89b9b...</td>\n",
       "      <td>2013-08-27T04:40:24.711Z</td>\n",
       "      <td>## Snail Sort\\n\\nGiven an `n x n` array, retur...</td>\n",
       "      <td>...</td>\n",
       "      <td>True</td>\n",
       "      <td>-4</td>\n",
       "      <td>4 kyu</td>\n",
       "      <td>blue</td>\n",
       "      <td>stevenbarragan</td>\n",
       "      <td>https://www.codewars.com/users/stevenbarragan</td>\n",
       "      <td>NaN</td>\n",
       "      <td>NaN</td>\n",
       "      <td>6</td>\n",
       "      <td>6</td>\n",
       "    </tr>\n",
       "  </tbody>\n",
       "</table>\n",
       "<p>2 rows × 25 columns</p>\n",
       "</div>"
      ],
      "text/plain": [
       "                         id                    name                    slug  \\\n",
       "0  5324945e2ece5e1f32000370  Sum Strings as Numbers  sum-strings-as-numbers   \n",
       "0  521c2db8ddc89b9b7a0000c1                   Snail                   snail   \n",
       "\n",
       "     category               publishedAt                approvedAt  \\\n",
       "0  algorithms  2014-03-15T17:58:42.203Z  2014-03-31T19:33:53.949Z   \n",
       "0  algorithms  2013-08-28T04:56:02.580Z                      None   \n",
       "\n",
       "                                           languages  \\\n",
       "0  [javascript, csharp, php, cpp, c, java, lua, p...   \n",
       "0  [ruby, coffeescript, javascript, python, haske...   \n",
       "\n",
       "                                                 url  \\\n",
       "0  https://www.codewars.com/kata/5324945e2ece5e1f...   \n",
       "0  https://www.codewars.com/kata/521c2db8ddc89b9b...   \n",
       "\n",
       "                  createdAt  \\\n",
       "0  2014-03-15T17:56:46.451Z   \n",
       "0  2013-08-27T04:40:24.711Z   \n",
       "\n",
       "                                         description  ... contributorsWanted  \\\n",
       "0  Given the string representations of two intege...  ...              False   \n",
       "0  ## Snail Sort\\n\\nGiven an `n x n` array, retur...  ...               True   \n",
       "\n",
       "  rank.id rank.name rank.color createdBy.username  \\\n",
       "0      -4     4 kyu       blue       nicknovitski   \n",
       "0      -4     4 kyu       blue     stevenbarragan   \n",
       "\n",
       "                                   createdBy.url approvedBy.username  \\\n",
       "0    https://www.codewars.com/users/nicknovitski            jhoffner   \n",
       "0  https://www.codewars.com/users/stevenbarragan                 NaN   \n",
       "\n",
       "                            approvedBy.url unresolved.issues  \\\n",
       "0  https://www.codewars.com/users/jhoffner                14   \n",
       "0                                      NaN                 6   \n",
       "\n",
       "  unresolved.suggestions  \n",
       "0                      6  \n",
       "0                      6  \n",
       "\n",
       "[2 rows x 25 columns]"
      ]
     },
     "execution_count": 9,
     "metadata": {},
     "output_type": "execute_result"
    }
   ],
   "source": [
    "url = f\"https://www.codewars.com/api/v1/code-challenges/{completed_list[0]}\"\n",
    "response = requests.get(url)\n",
    "json_data = loads(response.text)\n",
    "details_cols =  list(pd.json_normalize(json_data).columns)\n",
    "df_kata = pd.DataFrame(columns=details_cols) #Making empty dataframe with relevant columns\n",
    "\n",
    "#Looping through all the completed challenge id's\n",
    "for kata_id in completed_list:\n",
    "    url = f\"https://www.codewars.com/api/v1/code-challenges/{kata_id}\"\n",
    "    response = requests.get(url)\n",
    "    json_data = loads(response.text)\n",
    "    row = pd.json_normalize(json_data)\n",
    "    df_kata = pd.concat([df_kata,row]) \n",
    "df_kata.head(2)"
   ]
  },
  {
   "cell_type": "markdown",
   "metadata": {},
   "source": [
    "### Splitting Out The Details Into Lists"
   ]
  },
  {
   "cell_type": "code",
   "execution_count": 77,
   "metadata": {},
   "outputs": [
    {
     "name": "stdout",
     "output_type": "stream",
     "text": [
      "['id', 'name', 'slug', 'category', 'publishedAt', 'approvedAt', 'languages', 'url', 'createdAt', 'description', 'totalAttempts', 'totalCompleted', 'totalStars', 'voteScore', 'tags', 'contributorsWanted', 'rank.id', 'rank.name', 'rank.color', 'createdBy.username', 'createdBy.url', 'approvedBy.username', 'approvedBy.url', 'unresolved.issues', 'unresolved.suggestions']\n"
     ]
    },
    {
     "data": {
      "text/html": [
       "<div>\n",
       "<style scoped>\n",
       "    .dataframe tbody tr th:only-of-type {\n",
       "        vertical-align: middle;\n",
       "    }\n",
       "\n",
       "    .dataframe tbody tr th {\n",
       "        vertical-align: top;\n",
       "    }\n",
       "\n",
       "    .dataframe thead th {\n",
       "        text-align: right;\n",
       "    }\n",
       "</style>\n",
       "<table border=\"1\" class=\"dataframe\">\n",
       "  <thead>\n",
       "    <tr style=\"text-align: right;\">\n",
       "      <th></th>\n",
       "      <th>id</th>\n",
       "      <th>category</th>\n",
       "      <th>totalAttempts</th>\n",
       "      <th>totalCompleted</th>\n",
       "      <th>tags</th>\n",
       "      <th>rank.name</th>\n",
       "      <th>rank.color</th>\n",
       "    </tr>\n",
       "  </thead>\n",
       "  <tbody>\n",
       "    <tr>\n",
       "      <th>0</th>\n",
       "      <td>5324945e2ece5e1f32000370</td>\n",
       "      <td>algorithms</td>\n",
       "      <td>490630</td>\n",
       "      <td>28848</td>\n",
       "      <td>[Strings, Big Integers, Algorithms]</td>\n",
       "      <td>4 kyu</td>\n",
       "      <td>blue</td>\n",
       "    </tr>\n",
       "    <tr>\n",
       "      <th>0</th>\n",
       "      <td>521c2db8ddc89b9b7a0000c1</td>\n",
       "      <td>algorithms</td>\n",
       "      <td>401079</td>\n",
       "      <td>53787</td>\n",
       "      <td>[Arrays, Algorithms]</td>\n",
       "      <td>4 kyu</td>\n",
       "      <td>blue</td>\n",
       "    </tr>\n",
       "  </tbody>\n",
       "</table>\n",
       "</div>"
      ],
      "text/plain": [
       "                         id    category totalAttempts totalCompleted  \\\n",
       "0  5324945e2ece5e1f32000370  algorithms        490630          28848   \n",
       "0  521c2db8ddc89b9b7a0000c1  algorithms        401079          53787   \n",
       "\n",
       "                                  tags rank.name rank.color  \n",
       "0  [Strings, Big Integers, Algorithms]     4 kyu       blue  \n",
       "0                 [Arrays, Algorithms]     4 kyu       blue  "
      ]
     },
     "execution_count": 77,
     "metadata": {},
     "output_type": "execute_result"
    }
   ],
   "source": [
    "challenge_details = list(df_kata.columns)\n",
    "selected_details = ['id','totalAttempts','totalCompleted','rank.name','rank.color','category','tags']\n",
    "print(challenge_details)\n",
    "df_details_select = df_kata[df_kata.columns.intersection(selected_details)]\n",
    "df_details_select.head(2)"
   ]
  },
  {
   "cell_type": "markdown",
   "metadata": {},
   "source": [
    "### Merging Details onto Completitons via the Kata ID"
   ]
  },
  {
   "cell_type": "code",
   "execution_count": 82,
   "metadata": {},
   "outputs": [
    {
     "data": {
      "text/html": [
       "<div>\n",
       "<style scoped>\n",
       "    .dataframe tbody tr th:only-of-type {\n",
       "        vertical-align: middle;\n",
       "    }\n",
       "\n",
       "    .dataframe tbody tr th {\n",
       "        vertical-align: top;\n",
       "    }\n",
       "\n",
       "    .dataframe thead th {\n",
       "        text-align: right;\n",
       "    }\n",
       "</style>\n",
       "<table border=\"1\" class=\"dataframe\">\n",
       "  <thead>\n",
       "    <tr style=\"text-align: right;\">\n",
       "      <th></th>\n",
       "      <th>id</th>\n",
       "      <th>name</th>\n",
       "      <th>completedLanguages</th>\n",
       "      <th>completedAt</th>\n",
       "      <th>Completion Period</th>\n",
       "      <th>category</th>\n",
       "      <th>totalAttempts</th>\n",
       "      <th>totalCompleted</th>\n",
       "      <th>tags</th>\n",
       "      <th>rank.name</th>\n",
       "      <th>rank.color</th>\n",
       "    </tr>\n",
       "  </thead>\n",
       "  <tbody>\n",
       "    <tr>\n",
       "      <th>0</th>\n",
       "      <td>5324945e2ece5e1f32000370</td>\n",
       "      <td>Sum Strings as Numbers</td>\n",
       "      <td>[python]</td>\n",
       "      <td>2022-11-11</td>\n",
       "      <td>Nov-22</td>\n",
       "      <td>algorithms</td>\n",
       "      <td>490630</td>\n",
       "      <td>28848</td>\n",
       "      <td>[Strings, Big Integers, Algorithms]</td>\n",
       "      <td>4 kyu</td>\n",
       "      <td>blue</td>\n",
       "    </tr>\n",
       "    <tr>\n",
       "      <th>1</th>\n",
       "      <td>521c2db8ddc89b9b7a0000c1</td>\n",
       "      <td>Snail</td>\n",
       "      <td>[python]</td>\n",
       "      <td>2022-11-09</td>\n",
       "      <td>Nov-22</td>\n",
       "      <td>algorithms</td>\n",
       "      <td>401079</td>\n",
       "      <td>53787</td>\n",
       "      <td>[Arrays, Algorithms]</td>\n",
       "      <td>4 kyu</td>\n",
       "      <td>blue</td>\n",
       "    </tr>\n",
       "  </tbody>\n",
       "</table>\n",
       "</div>"
      ],
      "text/plain": [
       "                         id                    name completedLanguages  \\\n",
       "0  5324945e2ece5e1f32000370  Sum Strings as Numbers           [python]   \n",
       "1  521c2db8ddc89b9b7a0000c1                   Snail           [python]   \n",
       "\n",
       "  completedAt Completion Period    category totalAttempts totalCompleted  \\\n",
       "0  2022-11-11            Nov-22  algorithms        490630          28848   \n",
       "1  2022-11-09            Nov-22  algorithms        401079          53787   \n",
       "\n",
       "                                  tags rank.name rank.color  \n",
       "0  [Strings, Big Integers, Algorithms]     4 kyu       blue  \n",
       "1                 [Arrays, Algorithms]     4 kyu       blue  "
      ]
     },
     "execution_count": 82,
     "metadata": {},
     "output_type": "execute_result"
    }
   ],
   "source": [
    "df_kata_combined = pd.merge(df_complete,df_details_select,on='id',how='left')\n",
    "df_kata_combined.head(2)"
   ]
  },
  {
   "cell_type": "markdown",
   "metadata": {},
   "source": [
    "### Re-naming Columns"
   ]
  },
  {
   "cell_type": "code",
   "execution_count": 101,
   "metadata": {},
   "outputs": [],
   "source": [
    "df_profile.rename(columns={ 'username':'Username',\n",
    "                           'honor':'Honor',\n",
    "                           'leaderboardPosition':'Leaderboard',\n",
    "                           'ranks.overall.name':'Overall Rank',\n",
    "                           'ranks.languages.python.score':'Python Score',\n",
    "                           'ranks.languages.sql.score':'SQL Score',\n",
    "                           'ranks.overall.score':'Total Score'\n",
    "                           },inplace=True)\n",
    "\n",
    "df_kata_combined.rename(columns={'id':'Kata ID',\n",
    "                           'name':'Kata Name',\n",
    "                           'completedLanguages':'Languages',\n",
    "                           'completedAt':'Completed Date',\n",
    "                           'category':'Category',\n",
    "                           'totalAttempts':'Total Attempts',\n",
    "                           'totalCompleted':'Total Completed',\n",
    "                           'tags':'Tags',\n",
    "                           'rank.name':'Rank',\n",
    "                           'rank.color':'Color'\n",
    "                           },inplace=True)"
   ]
  },
  {
   "cell_type": "markdown",
   "metadata": {},
   "source": [
    "### Initialising XlsxWriter Workbook And Exporting Tables to .xlsx"
   ]
  },
  {
   "cell_type": "code",
   "execution_count": 116,
   "metadata": {},
   "outputs": [],
   "source": [
    "#-------------------------------------------------------\n",
    "#-------------.xlsx workbook initialisation-------------\n",
    "#-------------------------------------------------------\n",
    "\n",
    "#Excel Output Filepath\n",
    "excelpath = pathing('xlsx_data',f'codewars_stats_{user}.xlsx')\n",
    "\n",
    "#Generating .xlsx workbook in which to record dataframes for usage.\n",
    "date_str = date.today().strftime(\"%d-%b-%Y\")\n",
    "writer = pd.ExcelWriter(excelpath,engine='xlsxwriter')   \n",
    "workbook=writer.book\n",
    "worksheet='' #Initialise variable\n",
    "startrow = 0 #Initialise variable\n",
    "startcol = 0 #Initialise variable"
   ]
  },
  {
   "cell_type": "code",
   "execution_count": 117,
   "metadata": {},
   "outputs": [],
   "source": [
    "#Summary Table\n",
    "data_table = df_profile\n",
    "sheet_name = 'Stats'\n",
    "title_str = f'{user} Codewars Stats since {date_str}'\n",
    "col_width_list = [31,60,22,26,15,15,17,11,60,11,11]\n",
    "[startrow,startcol,worksheet,workbook,writer] = xlsx_table_writer(data_table,sheet_name,col_width_list,title_str,startrow,startcol,worksheet,workbook,writer)"
   ]
  },
  {
   "cell_type": "code",
   "execution_count": 118,
   "metadata": {},
   "outputs": [],
   "source": [
    "#Summary Table\n",
    "data_table = df_kata_combined\n",
    "sheet_name = 'Stats'\n",
    "title_str = f'Kata Compeleted By {user} since {date_str}'\n",
    "[startrow,startcol,worksheet,workbook,writer] = xlsx_table_writer(data_table,sheet_name,col_width_list,title_str,startrow,startcol,worksheet,workbook,writer)"
   ]
  },
  {
   "cell_type": "code",
   "execution_count": 119,
   "metadata": {},
   "outputs": [],
   "source": [
    "#Save Excel File Close workbook instance\n",
    "writer.close()"
   ]
  }
 ],
 "metadata": {
  "kernelspec": {
   "display_name": "Python 3.9.12 ('base')",
   "language": "python",
   "name": "python3"
  },
  "language_info": {
   "codemirror_mode": {
    "name": "ipython",
    "version": 3
   },
   "file_extension": ".py",
   "mimetype": "text/x-python",
   "name": "python",
   "nbconvert_exporter": "python",
   "pygments_lexer": "ipython3",
   "version": "3.9.12"
  },
  "orig_nbformat": 4,
  "vscode": {
   "interpreter": {
    "hash": "a5d7684ec75952edafaf0a83c405a14a93299776483ba143ad281ab3fd160234"
   }
  }
 },
 "nbformat": 4,
 "nbformat_minor": 2
}
