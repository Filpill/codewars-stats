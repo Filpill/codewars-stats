{
 "cells": [
  {
   "cell_type": "code",
   "execution_count": 1,
   "metadata": {},
   "outputs": [],
   "source": [
    "import sys\n",
    "import requests\n",
    "import xlsxwriter\n",
    "import numpy as np\n",
    "import pandas as pd\n",
    "import matplotlib as mpl\n",
    "import matplotlib.pyplot as plt\n",
    "import matplotlib.colors as mcolors\n",
    "from json import loads\n",
    "from datetime import date\n",
    "from dateutil.relativedelta import relativedelta\n",
    "plt.style.use('default')"
   ]
  },
  {
   "cell_type": "markdown",
   "metadata": {},
   "source": [
    "### Function for Transforming DataFrame in Excel Object"
   ]
  },
  {
   "cell_type": "code",
   "execution_count": 2,
   "metadata": {},
   "outputs": [],
   "source": [
    "#Function for Writing .xlsx Data Tables which will provide a standard output for table formatting \n",
    "def xlsx_table_writer(data_table,sheet_name,col_width_list,title_str,startrow,startcol,worksheet,workbook,writer):\n",
    "\n",
    "    #Layout/Formatting\n",
    "    t_vert_spacing = 5 #Vertical Spacing between tables\n",
    "    t_horz_spacing = 1 #Horizontal Spacing between tables\n",
    "    title_format = workbook.add_format({'bold': True, 'font_size' : 20, 'fg_color' : '#76933C', 'font_color' : 'white' }) #Standardised Title Format for all tables\n",
    "    header_format = workbook.add_format({'bold' : True, 'font_size' : 12, 'text_wrap' : True}) #text-wrapping for table headers\n",
    "\n",
    "    # Rank Colouring\n",
    "    white_format = workbook.add_format({'font_size' : 9,'bg_color' : '#e0e0de','font_color': 'black'})\n",
    "    yellow_format = workbook.add_format({'font_size' : 9,'bg_color' : '#F4B831','font_color': 'black'})\n",
    "    blue_format = workbook.add_format({'font_size' : 9,'bg_color' : '#3B7EBA','font_color': 'white'})\n",
    "    purple_format = workbook.add_format({'font_size' : 9,'bg_color' : '#856DCC','font_color': 'white'})\n",
    "    \n",
    "    # Adding and changing active sheet\n",
    "    try:\n",
    "        worksheet=workbook.add_worksheet(sheet_name)\n",
    "        writer.sheets[sheet_name] = worksheet \n",
    "        worksheet.set_zoom(70)\n",
    "        startrow = 3\n",
    "        startcol = 1\n",
    "    except:\n",
    "        pass\n",
    "\n",
    "    for i in range(len(col_width_list)):\n",
    "        worksheet.set_column(i+startcol, i+startcol, col_width_list[i])\n",
    "\n",
    "    #Writing in Cell Data and Merging Cells for Table Titles\n",
    "    data_table.to_excel(writer,sheet_name=sheet_name,startrow=startrow , startcol=startcol, index=False, header=False)\n",
    "    worksheet.merge_range(startrow-2, startcol,startrow-2,data_table.shape[1] + startcol -1, title_str,title_format) #writing in title formatting above table\n",
    "\n",
    "    #Conditional Formatting For Colors of Ranks\n",
    "    worksheet.conditional_format(startrow,startcol + data_table.shape[1]-2,data_table.shape[0]+startrow-1,data_table.shape[1]+ startcol -1,{'type':'text', 'criteria': 'containing', 'value': 'white', 'format': white_format}  )\n",
    "    worksheet.conditional_format(startrow,startcol + data_table.shape[1]-2,data_table.shape[0]+startrow-1,data_table.shape[1]+ startcol -1,{'type':'text', 'criteria': 'containing', 'value': '8 kyu', 'format': white_format}  )\n",
    "    worksheet.conditional_format(startrow,startcol + data_table.shape[1]-2,data_table.shape[0]+startrow-1,data_table.shape[1]+ startcol -1,{'type':'text', 'criteria': 'containing', 'value': '7 kyu', 'format': white_format}  )\n",
    "\n",
    "    worksheet.conditional_format(startrow,startcol + data_table.shape[1]-2,data_table.shape[0]+startrow-1,data_table.shape[1]+ startcol -1,{'type':'text', 'criteria': 'containing', 'value': 'yellow', 'format': yellow_format}  )\n",
    "    worksheet.conditional_format(startrow,startcol + data_table.shape[1]-2,data_table.shape[0]+startrow-1,data_table.shape[1]+ startcol -1,{'type':'text', 'criteria': 'containing', 'value': '6 kyu', 'format': yellow_format}  )\n",
    "    worksheet.conditional_format(startrow,startcol + data_table.shape[1]-2,data_table.shape[0]+startrow-1,data_table.shape[1]+ startcol -1,{'type':'text', 'criteria': 'containing', 'value': '5 kyu', 'format': yellow_format}  )\n",
    "\n",
    "    worksheet.conditional_format(startrow,startcol + data_table.shape[1]-2,data_table.shape[0]+startrow-1,data_table.shape[1]+ startcol -1,{'type':'text', 'criteria': 'containing', 'value': 'blue', 'format': blue_format}  )\n",
    "    worksheet.conditional_format(startrow,startcol + data_table.shape[1]-2,data_table.shape[0]+startrow-1,data_table.shape[1]+ startcol -1,{'type':'text', 'criteria': 'containing', 'value': '4 kyu', 'format': blue_format}  )\n",
    "    worksheet.conditional_format(startrow,startcol + data_table.shape[1]-2,data_table.shape[0]+startrow-1,data_table.shape[1]+ startcol -1,{'type':'text', 'criteria': 'containing', 'value': '3 kyu', 'format': blue_format}  )\n",
    "\n",
    "    worksheet.conditional_format(startrow,startcol + data_table.shape[1]-2,data_table.shape[0]+startrow-1,data_table.shape[1]+ startcol -1,{'type':'text', 'criteria': 'containing', 'value': 'purple', 'format': purple_format}  )\n",
    "    worksheet.conditional_format(startrow,startcol + data_table.shape[1]-2,data_table.shape[0]+startrow-1,data_table.shape[1]+ startcol -1,{'type':'text', 'criteria': 'containing', 'value': '2 kyu', 'format': purple_format}  )\n",
    "    worksheet.conditional_format(startrow,startcol + data_table.shape[1]-2,data_table.shape[0]+startrow-1,data_table.shape[1]+ startcol -1,{'type':'text', 'criteria': 'containing', 'value': '1 kyu', 'format': purple_format}  )\n",
    "\n",
    "\n",
    "    #Column settings to use in add table function\n",
    "    column_settings = [{'header' : column} for column in data_table.columns]\n",
    "\n",
    "    #Populating Excel with Table Format - Adding table to xls for each df\n",
    "    worksheet.add_table(startrow-1, startcol, startrow + data_table.shape[0]-1, data_table.shape[1] + startcol - 1, {'columns' : column_settings, 'style': 'Table Style Medium 4', 'autofilter' : False})   \n",
    "\n",
    "    #Applying a text wrap to the Column Header\n",
    "    for col_num, value in enumerate(data_table.columns.values):\n",
    "        worksheet.write(startrow-1, col_num + startcol, value, header_format)\n",
    "    \n",
    "    #Setting Positions of Following Tables Insertions\n",
    "    startrow = startrow + data_table.shape[0] + t_vert_spacing #Setting to start row for next table\n",
    "    # startrow = 3  \n",
    "    # startcol = startcol + data_table.shape[1] + t_horz_spacing  #Disabling horizontally displaced tables in favour of vertically displacements\n",
    "    startcol = 1\n",
    "\n",
    "    #Setting the column width at the end of the table to keep to spacing minimal between tables\n",
    "    worksheet.set_column(startcol-1,startcol-1,1)\n",
    "    \n",
    "    #Return the start row in order to index for future function calls\n",
    "    return [startrow,startcol,worksheet,workbook,writer]"
   ]
  },
  {
   "cell_type": "code",
   "execution_count": 3,
   "metadata": {},
   "outputs": [],
   "source": [
    "#Function to Detect Operating System and Adjust Pathing to Respective Filesystem\n",
    "def pathing(folder_path,filename):\n",
    "\n",
    "    #Windows Operating System\n",
    "    if 'win' in sys.platform:\n",
    "        if folder_path == 'root':\n",
    "            filepath = f'{sys.path[0]}\\\\{filename}'\n",
    "        else:\n",
    "            filepath = f'{sys.path[0]}\\\\{folder_path}\\\\{filename}'\n",
    "    #Linux/Mac Operating Sytem\n",
    "    else:\n",
    "        if folder_path == 'root':\n",
    "            filepath = f'{sys.path[0]}/{filename}'\n",
    "        else:\n",
    "            filepath = f'{sys.path[0]}/{folder_path}/{filename}'\n",
    "\n",
    "    return filepath"
   ]
  },
  {
   "cell_type": "markdown",
   "metadata": {},
   "source": [
    "### User Inputs"
   ]
  },
  {
   "cell_type": "code",
   "execution_count": 4,
   "metadata": {},
   "outputs": [],
   "source": [
    "user = \"Filpill\""
   ]
  },
  {
   "cell_type": "markdown",
   "metadata": {},
   "source": [
    "### User Overview"
   ]
  },
  {
   "cell_type": "code",
   "execution_count": 5,
   "metadata": {},
   "outputs": [
    {
     "name": "stdout",
     "output_type": "stream",
     "text": [
      "Status: 200\n"
     ]
    },
    {
     "data": {
      "text/html": [
       "<div>\n",
       "<style scoped>\n",
       "    .dataframe tbody tr th:only-of-type {\n",
       "        vertical-align: middle;\n",
       "    }\n",
       "\n",
       "    .dataframe tbody tr th {\n",
       "        vertical-align: top;\n",
       "    }\n",
       "\n",
       "    .dataframe thead th {\n",
       "        text-align: right;\n",
       "    }\n",
       "</style>\n",
       "<table border=\"1\" class=\"dataframe\">\n",
       "  <thead>\n",
       "    <tr style=\"text-align: right;\">\n",
       "      <th></th>\n",
       "      <th>username</th>\n",
       "      <th>honor</th>\n",
       "      <th>leaderboardPosition</th>\n",
       "      <th>ranks.overall.name</th>\n",
       "      <th>ranks.overall.score</th>\n",
       "      <th>ranks.languages.python.score</th>\n",
       "      <th>ranks.languages.sql.score</th>\n",
       "      <th>codeChallenges.totalCompleted</th>\n",
       "    </tr>\n",
       "  </thead>\n",
       "  <tbody>\n",
       "    <tr>\n",
       "      <th>0</th>\n",
       "      <td>Filpill</td>\n",
       "      <td>2383</td>\n",
       "      <td>4968</td>\n",
       "      <td>3 kyu</td>\n",
       "      <td>2997</td>\n",
       "      <td>2342</td>\n",
       "      <td>655</td>\n",
       "      <td>350</td>\n",
       "    </tr>\n",
       "  </tbody>\n",
       "</table>\n",
       "</div>"
      ],
      "text/plain": [
       "  username  honor  leaderboardPosition ranks.overall.name  \\\n",
       "0  Filpill   2383                 4968              3 kyu   \n",
       "\n",
       "   ranks.overall.score  ranks.languages.python.score  \\\n",
       "0                 2997                          2342   \n",
       "\n",
       "   ranks.languages.sql.score  codeChallenges.totalCompleted  \n",
       "0                        655                            350  "
      ]
     },
     "execution_count": 5,
     "metadata": {},
     "output_type": "execute_result"
    }
   ],
   "source": [
    "url = f\"https://www.codewars.com/api/v1/users/{user}\"\n",
    "response = requests.get(url)\n",
    "json_data = loads(response.text)\n",
    "print(\"Status:\",response.status_code)\n",
    "curated_cols = ['username','honor','leaderboardPosition','ranks.overall.name','ranks.languages.python.score','ranks.languages.sql.score','ranks.overall.score','codeChallenges.totalCompleted']\n",
    "df_profile = pd.json_normalize(json_data)\n",
    "profile_cols = list(df_profile.columns)\n",
    "df_profile = df_profile[df_profile.columns.intersection(curated_cols)]\n",
    "df_profile"
   ]
  },
  {
   "cell_type": "markdown",
   "metadata": {},
   "source": [
    "### List of Completed Challenges\n",
    "- Need to make a request first  to find total number of pages in order to paginate"
   ]
  },
  {
   "cell_type": "code",
   "execution_count": 6,
   "metadata": {},
   "outputs": [],
   "source": [
    "url = f\"https://www.codewars.com/api/v1/users/{user}/code-challenges/completed?page=0\"\n",
    "response = requests.get(url)\n",
    "json_data = loads(response.text)\n",
    "number_of_pages = json_data.get('totalPages')"
   ]
  },
  {
   "cell_type": "markdown",
   "metadata": {},
   "source": [
    "#### Paginating the list of challenges"
   ]
  },
  {
   "cell_type": "code",
   "execution_count": 7,
   "metadata": {},
   "outputs": [
    {
     "name": "stdout",
     "output_type": "stream",
     "text": [
      "Status: 200\n",
      "Status: 200\n"
     ]
    },
    {
     "data": {
      "text/plain": [
       "350"
      ]
     },
     "execution_count": 7,
     "metadata": {},
     "output_type": "execute_result"
    }
   ],
   "source": [
    "for page in range(number_of_pages):\n",
    "    url = f\"https://www.codewars.com/api/v1/users/{user}/code-challenges/completed?page={page}\"\n",
    "    response = requests.get(url)\n",
    "    json_data = loads(response.text)\n",
    "    print(\"Status:\",response.status_code)\n",
    "    raw_data = pd.json_normalize(json_data)\n",
    "    df_page = pd.DataFrame.from_dict(raw_data.loc[0,'data'])\n",
    "    df_page.drop(columns = 'slug',inplace=True)\n",
    "    for i,dt in enumerate(df_page['completedAt']): df_page.loc[i,'completedAt'] = dt[0:10] #Fixing Date Formats, Only extracting date component\n",
    "    df_page['completedAt'] = pd.to_datetime(df_page['completedAt'],format='%Y-%m-%d')\n",
    "    df_page['Completion Period'] = df_page['completedAt'].dt.strftime(\"%b-%y\")\n",
    "    if page == 0:\n",
    "        df_complete = df_page.copy()\n",
    "    else:\n",
    "        df_complete = pd.concat([df_complete,df_page])\n",
    "\n",
    "completed_list = list(df_complete['id'])\n",
    "df_complete.head(2)\n",
    "df_complete.shape[0]"
   ]
  },
  {
   "cell_type": "markdown",
   "metadata": {},
   "source": [
    "### Getting Details of Code Challenges Completed By User"
   ]
  },
  {
   "cell_type": "code",
   "execution_count": 8,
   "metadata": {},
   "outputs": [
    {
     "data": {
      "text/html": [
       "<div>\n",
       "<style scoped>\n",
       "    .dataframe tbody tr th:only-of-type {\n",
       "        vertical-align: middle;\n",
       "    }\n",
       "\n",
       "    .dataframe tbody tr th {\n",
       "        vertical-align: top;\n",
       "    }\n",
       "\n",
       "    .dataframe thead th {\n",
       "        text-align: right;\n",
       "    }\n",
       "</style>\n",
       "<table border=\"1\" class=\"dataframe\">\n",
       "  <thead>\n",
       "    <tr style=\"text-align: right;\">\n",
       "      <th></th>\n",
       "      <th>id</th>\n",
       "      <th>name</th>\n",
       "      <th>slug</th>\n",
       "      <th>category</th>\n",
       "      <th>publishedAt</th>\n",
       "      <th>approvedAt</th>\n",
       "      <th>languages</th>\n",
       "      <th>url</th>\n",
       "      <th>createdAt</th>\n",
       "      <th>description</th>\n",
       "      <th>...</th>\n",
       "      <th>contributorsWanted</th>\n",
       "      <th>rank.id</th>\n",
       "      <th>rank.name</th>\n",
       "      <th>rank.color</th>\n",
       "      <th>createdBy.username</th>\n",
       "      <th>createdBy.url</th>\n",
       "      <th>approvedBy.username</th>\n",
       "      <th>approvedBy.url</th>\n",
       "      <th>unresolved.issues</th>\n",
       "      <th>unresolved.suggestions</th>\n",
       "    </tr>\n",
       "  </thead>\n",
       "  <tbody>\n",
       "    <tr>\n",
       "      <th>0</th>\n",
       "      <td>5506b230a11c0aeab3000c1f</td>\n",
       "      <td>Deodorant Evaporator</td>\n",
       "      <td>deodorant-evaporator</td>\n",
       "      <td>reference</td>\n",
       "      <td>2015-03-16T10:53:57.119Z</td>\n",
       "      <td>2015-05-08T18:48:08.802Z</td>\n",
       "      <td>[ruby, python, java, csharp, clojure, javascri...</td>\n",
       "      <td>https://www.codewars.com/kata/5506b230a11c0aea...</td>\n",
       "      <td>2015-03-16T10:36:33.343Z</td>\n",
       "      <td>This program tests the life of an evaporator c...</td>\n",
       "      <td>...</td>\n",
       "      <td>True</td>\n",
       "      <td>-7</td>\n",
       "      <td>7 kyu</td>\n",
       "      <td>white</td>\n",
       "      <td>g964</td>\n",
       "      <td>https://www.codewars.com/users/g964</td>\n",
       "      <td>jhoffner</td>\n",
       "      <td>https://www.codewars.com/users/jhoffner</td>\n",
       "      <td>1</td>\n",
       "      <td>4</td>\n",
       "    </tr>\n",
       "    <tr>\n",
       "      <th>0</th>\n",
       "      <td>53f0f358b9cb376eca001079</td>\n",
       "      <td>Regular Ball Super Ball</td>\n",
       "      <td>regular-ball-super-ball</td>\n",
       "      <td>reference</td>\n",
       "      <td>2014-08-17T18:50:15.319Z</td>\n",
       "      <td>2014-09-02T19:19:53.804Z</td>\n",
       "      <td>[javascript, coffeescript, ruby, python, cshar...</td>\n",
       "      <td>https://www.codewars.com/kata/53f0f358b9cb376e...</td>\n",
       "      <td>2014-08-17T18:24:24.723Z</td>\n",
       "      <td>Create a class `Ball`. Ball objects should acc...</td>\n",
       "      <td>...</td>\n",
       "      <td>False</td>\n",
       "      <td>-8</td>\n",
       "      <td>8 kyu</td>\n",
       "      <td>white</td>\n",
       "      <td>ogryzek</td>\n",
       "      <td>https://www.codewars.com/users/ogryzek</td>\n",
       "      <td>xcthulhu</td>\n",
       "      <td>https://www.codewars.com/users/xcthulhu</td>\n",
       "      <td>0</td>\n",
       "      <td>1</td>\n",
       "    </tr>\n",
       "  </tbody>\n",
       "</table>\n",
       "<p>2 rows × 25 columns</p>\n",
       "</div>"
      ],
      "text/plain": [
       "                         id                     name                     slug  \\\n",
       "0  5506b230a11c0aeab3000c1f     Deodorant Evaporator     deodorant-evaporator   \n",
       "0  53f0f358b9cb376eca001079  Regular Ball Super Ball  regular-ball-super-ball   \n",
       "\n",
       "    category               publishedAt                approvedAt  \\\n",
       "0  reference  2015-03-16T10:53:57.119Z  2015-05-08T18:48:08.802Z   \n",
       "0  reference  2014-08-17T18:50:15.319Z  2014-09-02T19:19:53.804Z   \n",
       "\n",
       "                                           languages  \\\n",
       "0  [ruby, python, java, csharp, clojure, javascri...   \n",
       "0  [javascript, coffeescript, ruby, python, cshar...   \n",
       "\n",
       "                                                 url  \\\n",
       "0  https://www.codewars.com/kata/5506b230a11c0aea...   \n",
       "0  https://www.codewars.com/kata/53f0f358b9cb376e...   \n",
       "\n",
       "                  createdAt  \\\n",
       "0  2015-03-16T10:36:33.343Z   \n",
       "0  2014-08-17T18:24:24.723Z   \n",
       "\n",
       "                                         description  ... contributorsWanted  \\\n",
       "0  This program tests the life of an evaporator c...  ...               True   \n",
       "0  Create a class `Ball`. Ball objects should acc...  ...              False   \n",
       "\n",
       "  rank.id rank.name rank.color createdBy.username  \\\n",
       "0      -7     7 kyu      white               g964   \n",
       "0      -8     8 kyu      white            ogryzek   \n",
       "\n",
       "                            createdBy.url approvedBy.username  \\\n",
       "0     https://www.codewars.com/users/g964            jhoffner   \n",
       "0  https://www.codewars.com/users/ogryzek            xcthulhu   \n",
       "\n",
       "                            approvedBy.url unresolved.issues  \\\n",
       "0  https://www.codewars.com/users/jhoffner                 1   \n",
       "0  https://www.codewars.com/users/xcthulhu                 0   \n",
       "\n",
       "  unresolved.suggestions  \n",
       "0                      4  \n",
       "0                      1  \n",
       "\n",
       "[2 rows x 25 columns]"
      ]
     },
     "execution_count": 8,
     "metadata": {},
     "output_type": "execute_result"
    }
   ],
   "source": [
    "url = f\"https://www.codewars.com/api/v1/code-challenges/{completed_list[0]}\"\n",
    "response = requests.get(url)\n",
    "json_data = loads(response.text)\n",
    "details_cols =  list(pd.json_normalize(json_data).columns)\n",
    "df_kata = pd.DataFrame(columns=details_cols) #Making empty dataframe with relevant columns\n",
    "\n",
    "#Looping through all the completed challenge id's\n",
    "for kata_id in completed_list:\n",
    "    url = f\"https://www.codewars.com/api/v1/code-challenges/{kata_id}\"\n",
    "    response = requests.get(url)\n",
    "    json_data = loads(response.text)\n",
    "    row = pd.json_normalize(json_data)\n",
    "    df_kata = pd.concat([df_kata,row]) \n",
    "df_kata.head(2)"
   ]
  },
  {
   "cell_type": "markdown",
   "metadata": {},
   "source": [
    "### Splitting Out The Details Into Lists"
   ]
  },
  {
   "cell_type": "code",
   "execution_count": 9,
   "metadata": {},
   "outputs": [
    {
     "name": "stdout",
     "output_type": "stream",
     "text": [
      "['id', 'name', 'slug', 'category', 'publishedAt', 'approvedAt', 'languages', 'url', 'createdAt', 'description', 'totalAttempts', 'totalCompleted', 'totalStars', 'voteScore', 'tags', 'contributorsWanted', 'rank.id', 'rank.name', 'rank.color', 'createdBy.username', 'createdBy.url', 'approvedBy.username', 'approvedBy.url', 'unresolved.issues', 'unresolved.suggestions']\n"
     ]
    },
    {
     "data": {
      "text/html": [
       "<div>\n",
       "<style scoped>\n",
       "    .dataframe tbody tr th:only-of-type {\n",
       "        vertical-align: middle;\n",
       "    }\n",
       "\n",
       "    .dataframe tbody tr th {\n",
       "        vertical-align: top;\n",
       "    }\n",
       "\n",
       "    .dataframe thead th {\n",
       "        text-align: right;\n",
       "    }\n",
       "</style>\n",
       "<table border=\"1\" class=\"dataframe\">\n",
       "  <thead>\n",
       "    <tr style=\"text-align: right;\">\n",
       "      <th></th>\n",
       "      <th>id</th>\n",
       "      <th>category</th>\n",
       "      <th>totalAttempts</th>\n",
       "      <th>totalCompleted</th>\n",
       "      <th>tags</th>\n",
       "      <th>rank.name</th>\n",
       "      <th>rank.color</th>\n",
       "    </tr>\n",
       "  </thead>\n",
       "  <tbody>\n",
       "    <tr>\n",
       "      <th>0</th>\n",
       "      <td>5506b230a11c0aeab3000c1f</td>\n",
       "      <td>reference</td>\n",
       "      <td>76219</td>\n",
       "      <td>22219</td>\n",
       "      <td>[Fundamentals]</td>\n",
       "      <td>7 kyu</td>\n",
       "      <td>white</td>\n",
       "    </tr>\n",
       "    <tr>\n",
       "      <th>0</th>\n",
       "      <td>53f0f358b9cb376eca001079</td>\n",
       "      <td>reference</td>\n",
       "      <td>65697</td>\n",
       "      <td>27450</td>\n",
       "      <td>[Fundamentals]</td>\n",
       "      <td>8 kyu</td>\n",
       "      <td>white</td>\n",
       "    </tr>\n",
       "  </tbody>\n",
       "</table>\n",
       "</div>"
      ],
      "text/plain": [
       "                         id   category totalAttempts totalCompleted  \\\n",
       "0  5506b230a11c0aeab3000c1f  reference         76219          22219   \n",
       "0  53f0f358b9cb376eca001079  reference         65697          27450   \n",
       "\n",
       "             tags rank.name rank.color  \n",
       "0  [Fundamentals]     7 kyu      white  \n",
       "0  [Fundamentals]     8 kyu      white  "
      ]
     },
     "execution_count": 9,
     "metadata": {},
     "output_type": "execute_result"
    }
   ],
   "source": [
    "challenge_details = list(df_kata.columns)\n",
    "selected_details = ['id','totalAttempts','totalCompleted','rank.name','rank.color','category','tags']\n",
    "print(challenge_details)\n",
    "df_details_select = df_kata[df_kata.columns.intersection(selected_details)]\n",
    "df_details_select.head(2)"
   ]
  },
  {
   "cell_type": "markdown",
   "metadata": {},
   "source": [
    "### Merging Details onto Completitons via the Kata ID"
   ]
  },
  {
   "cell_type": "code",
   "execution_count": 10,
   "metadata": {},
   "outputs": [
    {
     "data": {
      "text/html": [
       "<div>\n",
       "<style scoped>\n",
       "    .dataframe tbody tr th:only-of-type {\n",
       "        vertical-align: middle;\n",
       "    }\n",
       "\n",
       "    .dataframe tbody tr th {\n",
       "        vertical-align: top;\n",
       "    }\n",
       "\n",
       "    .dataframe thead th {\n",
       "        text-align: right;\n",
       "    }\n",
       "</style>\n",
       "<table border=\"1\" class=\"dataframe\">\n",
       "  <thead>\n",
       "    <tr style=\"text-align: right;\">\n",
       "      <th></th>\n",
       "      <th>id</th>\n",
       "      <th>name</th>\n",
       "      <th>completedLanguages</th>\n",
       "      <th>completedAt</th>\n",
       "      <th>Completion Period</th>\n",
       "      <th>category</th>\n",
       "      <th>totalAttempts</th>\n",
       "      <th>totalCompleted</th>\n",
       "      <th>tags</th>\n",
       "      <th>rank.name</th>\n",
       "      <th>rank.color</th>\n",
       "    </tr>\n",
       "  </thead>\n",
       "  <tbody>\n",
       "    <tr>\n",
       "      <th>0</th>\n",
       "      <td>5506b230a11c0aeab3000c1f</td>\n",
       "      <td>Deodorant Evaporator</td>\n",
       "      <td>[python]</td>\n",
       "      <td>2022-12-13</td>\n",
       "      <td>Dec-22</td>\n",
       "      <td>reference</td>\n",
       "      <td>76219</td>\n",
       "      <td>22219</td>\n",
       "      <td>[Fundamentals]</td>\n",
       "      <td>7 kyu</td>\n",
       "      <td>white</td>\n",
       "    </tr>\n",
       "    <tr>\n",
       "      <th>1</th>\n",
       "      <td>53f0f358b9cb376eca001079</td>\n",
       "      <td>Regular Ball Super Ball</td>\n",
       "      <td>[python]</td>\n",
       "      <td>2022-12-13</td>\n",
       "      <td>Dec-22</td>\n",
       "      <td>reference</td>\n",
       "      <td>65697</td>\n",
       "      <td>27450</td>\n",
       "      <td>[Fundamentals]</td>\n",
       "      <td>8 kyu</td>\n",
       "      <td>white</td>\n",
       "    </tr>\n",
       "  </tbody>\n",
       "</table>\n",
       "</div>"
      ],
      "text/plain": [
       "                         id                     name completedLanguages  \\\n",
       "0  5506b230a11c0aeab3000c1f     Deodorant Evaporator           [python]   \n",
       "1  53f0f358b9cb376eca001079  Regular Ball Super Ball           [python]   \n",
       "\n",
       "  completedAt Completion Period   category totalAttempts totalCompleted  \\\n",
       "0  2022-12-13            Dec-22  reference         76219          22219   \n",
       "1  2022-12-13            Dec-22  reference         65697          27450   \n",
       "\n",
       "             tags rank.name rank.color  \n",
       "0  [Fundamentals]     7 kyu      white  \n",
       "1  [Fundamentals]     8 kyu      white  "
      ]
     },
     "execution_count": 10,
     "metadata": {},
     "output_type": "execute_result"
    }
   ],
   "source": [
    "df_kata_combined = pd.merge(df_complete,df_details_select,on='id',how='left')\n",
    "df_kata_combined.head(2)"
   ]
  },
  {
   "cell_type": "markdown",
   "metadata": {},
   "source": [
    "### Re-naming Columns"
   ]
  },
  {
   "cell_type": "code",
   "execution_count": 11,
   "metadata": {},
   "outputs": [
    {
     "data": {
      "text/html": [
       "<div>\n",
       "<style scoped>\n",
       "    .dataframe tbody tr th:only-of-type {\n",
       "        vertical-align: middle;\n",
       "    }\n",
       "\n",
       "    .dataframe tbody tr th {\n",
       "        vertical-align: top;\n",
       "    }\n",
       "\n",
       "    .dataframe thead th {\n",
       "        text-align: right;\n",
       "    }\n",
       "</style>\n",
       "<table border=\"1\" class=\"dataframe\">\n",
       "  <thead>\n",
       "    <tr style=\"text-align: right;\">\n",
       "      <th></th>\n",
       "      <th>Kata ID</th>\n",
       "      <th>Kata Name</th>\n",
       "      <th>Languages</th>\n",
       "      <th>Completed Date</th>\n",
       "      <th>Completion Period</th>\n",
       "      <th>Category</th>\n",
       "      <th>Total Attempts</th>\n",
       "      <th>Total Completed</th>\n",
       "      <th>Tags</th>\n",
       "      <th>Rank</th>\n",
       "      <th>Color</th>\n",
       "    </tr>\n",
       "  </thead>\n",
       "  <tbody>\n",
       "    <tr>\n",
       "      <th>0</th>\n",
       "      <td>5506b230a11c0aeab3000c1f</td>\n",
       "      <td>Deodorant Evaporator</td>\n",
       "      <td>[python]</td>\n",
       "      <td>2022-12-13</td>\n",
       "      <td>Dec-22</td>\n",
       "      <td>reference</td>\n",
       "      <td>76219</td>\n",
       "      <td>22219</td>\n",
       "      <td>[Fundamentals]</td>\n",
       "      <td>7 kyu</td>\n",
       "      <td>white</td>\n",
       "    </tr>\n",
       "    <tr>\n",
       "      <th>1</th>\n",
       "      <td>53f0f358b9cb376eca001079</td>\n",
       "      <td>Regular Ball Super Ball</td>\n",
       "      <td>[python]</td>\n",
       "      <td>2022-12-13</td>\n",
       "      <td>Dec-22</td>\n",
       "      <td>reference</td>\n",
       "      <td>65697</td>\n",
       "      <td>27450</td>\n",
       "      <td>[Fundamentals]</td>\n",
       "      <td>8 kyu</td>\n",
       "      <td>white</td>\n",
       "    </tr>\n",
       "  </tbody>\n",
       "</table>\n",
       "</div>"
      ],
      "text/plain": [
       "                    Kata ID                Kata Name Languages Completed Date  \\\n",
       "0  5506b230a11c0aeab3000c1f     Deodorant Evaporator  [python]     2022-12-13   \n",
       "1  53f0f358b9cb376eca001079  Regular Ball Super Ball  [python]     2022-12-13   \n",
       "\n",
       "  Completion Period   Category Total Attempts Total Completed            Tags  \\\n",
       "0            Dec-22  reference          76219           22219  [Fundamentals]   \n",
       "1            Dec-22  reference          65697           27450  [Fundamentals]   \n",
       "\n",
       "    Rank  Color  \n",
       "0  7 kyu  white  \n",
       "1  8 kyu  white  "
      ]
     },
     "execution_count": 11,
     "metadata": {},
     "output_type": "execute_result"
    }
   ],
   "source": [
    "df_profile.rename(columns={ 'username':'Username',\n",
    "                           'honor':'Honor',\n",
    "                           'leaderboardPosition':'Leaderboard',\n",
    "                           'ranks.overall.name':'Overall Rank',\n",
    "                           'ranks.languages.python.score':'Python Score',\n",
    "                           'ranks.languages.sql.score':'SQL Score',\n",
    "                           'ranks.overall.score':'Total Score'\n",
    "                           },inplace=True)\n",
    "\n",
    "df_kata_combined.rename(columns={'id':'Kata ID',\n",
    "                           'name':'Kata Name',\n",
    "                           'completedLanguages':'Languages',\n",
    "                           'completedAt':'Completed Date',\n",
    "                           'category':'Category',\n",
    "                           'totalAttempts':'Total Attempts',\n",
    "                           'totalCompleted':'Total Completed',\n",
    "                           'tags':'Tags',\n",
    "                           'rank.name':'Rank',\n",
    "                           'rank.color':'Color'\n",
    "                           },inplace=True)\n",
    "df_kata_combined.head(2)"
   ]
  },
  {
   "cell_type": "markdown",
   "metadata": {},
   "source": [
    "### Saving merged data into csv"
   ]
  },
  {
   "cell_type": "code",
   "execution_count": 12,
   "metadata": {},
   "outputs": [],
   "source": [
    "df_kata_combined.to_csv('csv/codewars_request.csv')"
   ]
  },
  {
   "cell_type": "markdown",
   "metadata": {},
   "source": [
    "### Data Aggregation"
   ]
  },
  {
   "cell_type": "code",
   "execution_count": 13,
   "metadata": {},
   "outputs": [],
   "source": [
    "# Creating Date Range List\n",
    "date_str = date.today().strftime(\"%d-%b-%Y\")\n",
    "start_date = df_kata_combined['Completed Date'].min()\n",
    "end_date = df_kata_combined['Completed Date'].max() + relativedelta(months=1)\n",
    "date_rng = pd.date_range(start = start_date, end = end_date, freq = 'M').tolist()"
   ]
  },
  {
   "cell_type": "markdown",
   "metadata": {},
   "source": [
    "#### Category Count"
   ]
  },
  {
   "cell_type": "code",
   "execution_count": 14,
   "metadata": {},
   "outputs": [
    {
     "data": {
      "text/html": [
       "<div>\n",
       "<style scoped>\n",
       "    .dataframe tbody tr th:only-of-type {\n",
       "        vertical-align: middle;\n",
       "    }\n",
       "\n",
       "    .dataframe tbody tr th {\n",
       "        vertical-align: top;\n",
       "    }\n",
       "\n",
       "    .dataframe thead th {\n",
       "        text-align: right;\n",
       "    }\n",
       "</style>\n",
       "<table border=\"1\" class=\"dataframe\">\n",
       "  <thead>\n",
       "    <tr style=\"text-align: right;\">\n",
       "      <th></th>\n",
       "      <th>Category</th>\n",
       "      <th>Count</th>\n",
       "    </tr>\n",
       "  </thead>\n",
       "  <tbody>\n",
       "    <tr>\n",
       "      <th>4</th>\n",
       "      <td>reference</td>\n",
       "      <td>297</td>\n",
       "    </tr>\n",
       "    <tr>\n",
       "      <th>0</th>\n",
       "      <td>algorithms</td>\n",
       "      <td>46</td>\n",
       "    </tr>\n",
       "    <tr>\n",
       "      <th>2</th>\n",
       "      <td>games</td>\n",
       "      <td>3</td>\n",
       "    </tr>\n",
       "    <tr>\n",
       "      <th>1</th>\n",
       "      <td>bug_fixes</td>\n",
       "      <td>2</td>\n",
       "    </tr>\n",
       "    <tr>\n",
       "      <th>3</th>\n",
       "      <td>refactoring</td>\n",
       "      <td>2</td>\n",
       "    </tr>\n",
       "  </tbody>\n",
       "</table>\n",
       "</div>"
      ],
      "text/plain": [
       "      Category  Count\n",
       "4    reference    297\n",
       "0   algorithms     46\n",
       "2        games      3\n",
       "1    bug_fixes      2\n",
       "3  refactoring      2"
      ]
     },
     "execution_count": 14,
     "metadata": {},
     "output_type": "execute_result"
    }
   ],
   "source": [
    "df_category = df_kata_combined.groupby(['Category'])['Category'].count().reset_index(name='Count')\n",
    "df_category.sort_values(by=['Count'],inplace=True,ascending=False)\n",
    "df_category.to_csv('csv/category.csv')\n",
    "df_category"
   ]
  },
  {
   "cell_type": "markdown",
   "metadata": {},
   "source": [
    "#### Monthly Kata Completions"
   ]
  },
  {
   "cell_type": "code",
   "execution_count": 15,
   "metadata": {},
   "outputs": [
    {
     "data": {
      "text/html": [
       "<div>\n",
       "<style scoped>\n",
       "    .dataframe tbody tr th:only-of-type {\n",
       "        vertical-align: middle;\n",
       "    }\n",
       "\n",
       "    .dataframe tbody tr th {\n",
       "        vertical-align: top;\n",
       "    }\n",
       "\n",
       "    .dataframe thead th {\n",
       "        text-align: right;\n",
       "    }\n",
       "</style>\n",
       "<table border=\"1\" class=\"dataframe\">\n",
       "  <thead>\n",
       "    <tr style=\"text-align: right;\">\n",
       "      <th></th>\n",
       "      <th>Completed Date</th>\n",
       "      <th>Count</th>\n",
       "    </tr>\n",
       "  </thead>\n",
       "  <tbody>\n",
       "    <tr>\n",
       "      <th>0</th>\n",
       "      <td>Jun-22</td>\n",
       "      <td>29</td>\n",
       "    </tr>\n",
       "    <tr>\n",
       "      <th>1</th>\n",
       "      <td>Jul-22</td>\n",
       "      <td>0</td>\n",
       "    </tr>\n",
       "    <tr>\n",
       "      <th>2</th>\n",
       "      <td>Aug-22</td>\n",
       "      <td>0</td>\n",
       "    </tr>\n",
       "    <tr>\n",
       "      <th>3</th>\n",
       "      <td>Sep-22</td>\n",
       "      <td>12</td>\n",
       "    </tr>\n",
       "    <tr>\n",
       "      <th>4</th>\n",
       "      <td>Oct-22</td>\n",
       "      <td>22</td>\n",
       "    </tr>\n",
       "    <tr>\n",
       "      <th>5</th>\n",
       "      <td>Nov-22</td>\n",
       "      <td>277</td>\n",
       "    </tr>\n",
       "    <tr>\n",
       "      <th>6</th>\n",
       "      <td>Dec-22</td>\n",
       "      <td>10</td>\n",
       "    </tr>\n",
       "  </tbody>\n",
       "</table>\n",
       "</div>"
      ],
      "text/plain": [
       "  Completed Date  Count\n",
       "0         Jun-22     29\n",
       "1         Jul-22      0\n",
       "2         Aug-22      0\n",
       "3         Sep-22     12\n",
       "4         Oct-22     22\n",
       "5         Nov-22    277\n",
       "6         Dec-22     10"
      ]
     },
     "execution_count": 15,
     "metadata": {},
     "output_type": "execute_result"
    }
   ],
   "source": [
    "df_monthly_count = df_kata_combined.groupby(['Completed Date'])['Completed Date'].count()\n",
    "df_monthly_count = df_monthly_count.groupby([pd.Grouper(level='Completed Date',freq='1M')]).sum().reset_index(name='Count')\n",
    "for i,val in enumerate(date_rng): \n",
    "   df_monthly_count.loc[i,'Completed Date']  = val.strftime(\"%b-%y\")\n",
    "df_monthly_count.to_csv('csv/monthly.csv')\n",
    "df_monthly_count"
   ]
  },
  {
   "cell_type": "markdown",
   "metadata": {},
   "source": [
    "#### Rank Difficulty"
   ]
  },
  {
   "cell_type": "code",
   "execution_count": 16,
   "metadata": {},
   "outputs": [
    {
     "data": {
      "text/html": [
       "<div>\n",
       "<style scoped>\n",
       "    .dataframe tbody tr th:only-of-type {\n",
       "        vertical-align: middle;\n",
       "    }\n",
       "\n",
       "    .dataframe tbody tr th {\n",
       "        vertical-align: top;\n",
       "    }\n",
       "\n",
       "    .dataframe thead th {\n",
       "        text-align: right;\n",
       "    }\n",
       "</style>\n",
       "<table border=\"1\" class=\"dataframe\">\n",
       "  <thead>\n",
       "    <tr style=\"text-align: right;\">\n",
       "      <th></th>\n",
       "      <th>Rank</th>\n",
       "      <th>Count</th>\n",
       "    </tr>\n",
       "  </thead>\n",
       "  <tbody>\n",
       "    <tr>\n",
       "      <th>0</th>\n",
       "      <td>3 kyu</td>\n",
       "      <td>2</td>\n",
       "    </tr>\n",
       "    <tr>\n",
       "      <th>1</th>\n",
       "      <td>4 kyu</td>\n",
       "      <td>15</td>\n",
       "    </tr>\n",
       "    <tr>\n",
       "      <th>2</th>\n",
       "      <td>5 kyu</td>\n",
       "      <td>37</td>\n",
       "    </tr>\n",
       "    <tr>\n",
       "      <th>3</th>\n",
       "      <td>6 kyu</td>\n",
       "      <td>69</td>\n",
       "    </tr>\n",
       "    <tr>\n",
       "      <th>4</th>\n",
       "      <td>7 kyu</td>\n",
       "      <td>91</td>\n",
       "    </tr>\n",
       "    <tr>\n",
       "      <th>5</th>\n",
       "      <td>8 kyu</td>\n",
       "      <td>136</td>\n",
       "    </tr>\n",
       "  </tbody>\n",
       "</table>\n",
       "</div>"
      ],
      "text/plain": [
       "    Rank  Count\n",
       "0  3 kyu      2\n",
       "1  4 kyu     15\n",
       "2  5 kyu     37\n",
       "3  6 kyu     69\n",
       "4  7 kyu     91\n",
       "5  8 kyu    136"
      ]
     },
     "execution_count": 16,
     "metadata": {},
     "output_type": "execute_result"
    }
   ],
   "source": [
    "df_rank_count = df_kata_combined.groupby(['Rank'])['Rank'].count().reset_index(name='Count')\n",
    "df_rank_count.to_csv('csv/rank.csv')\n",
    "df_rank_count "
   ]
  },
  {
   "cell_type": "markdown",
   "metadata": {},
   "source": [
    "#### Language Completions"
   ]
  },
  {
   "cell_type": "code",
   "execution_count": 21,
   "metadata": {},
   "outputs": [
    {
     "data": {
      "text/html": [
       "<div>\n",
       "<style scoped>\n",
       "    .dataframe tbody tr th:only-of-type {\n",
       "        vertical-align: middle;\n",
       "    }\n",
       "\n",
       "    .dataframe tbody tr th {\n",
       "        vertical-align: top;\n",
       "    }\n",
       "\n",
       "    .dataframe thead th {\n",
       "        text-align: right;\n",
       "    }\n",
       "</style>\n",
       "<table border=\"1\" class=\"dataframe\">\n",
       "  <thead>\n",
       "    <tr style=\"text-align: right;\">\n",
       "      <th></th>\n",
       "      <th>Languages</th>\n",
       "      <th>Count</th>\n",
       "    </tr>\n",
       "  </thead>\n",
       "  <tbody>\n",
       "    <tr>\n",
       "      <th>0</th>\n",
       "      <td>python</td>\n",
       "      <td>260</td>\n",
       "    </tr>\n",
       "    <tr>\n",
       "      <th>1</th>\n",
       "      <td>sql</td>\n",
       "      <td>90</td>\n",
       "    </tr>\n",
       "  </tbody>\n",
       "</table>\n",
       "</div>"
      ],
      "text/plain": [
       "  Languages  Count\n",
       "0    python    260\n",
       "1       sql     90"
      ]
     },
     "execution_count": 21,
     "metadata": {},
     "output_type": "execute_result"
    }
   ],
   "source": [
    "# Looping through series to unpack language list into new rows\n",
    "lang_comp = []\n",
    "for i,lang_list in enumerate(df_kata_combined['Languages']):\n",
    "    for lang in lang_list:\n",
    "        lang_comp.append((df_kata_combined.loc[i,'Kata ID'],\n",
    "                        df_kata_combined.loc[i,'Completed Date'],\n",
    "                        lang))\n",
    "\n",
    "# Creating seperate data frame for unpacking the programming languages\n",
    "df_lang = pd.DataFrame(data=lang_comp,columns=['Kata ID','Completion Period','Languages'])\n",
    "df_lang.to_csv('csv/language_tableau.csv')\n",
    "\n",
    "   \n",
    "# Applying Groupby to count number of kata completions split by language\n",
    "df_lang = df_lang.groupby(['Languages'])['Languages'].count().reset_index(name='Count')\n",
    "df_lang.to_csv('csv/language.csv')\n",
    "df_lang"
   ]
  },
  {
   "cell_type": "markdown",
   "metadata": {},
   "source": [
    "#### Tags"
   ]
  },
  {
   "cell_type": "code",
   "execution_count": 20,
   "metadata": {},
   "outputs": [
    {
     "data": {
      "text/html": [
       "<div>\n",
       "<style scoped>\n",
       "    .dataframe tbody tr th:only-of-type {\n",
       "        vertical-align: middle;\n",
       "    }\n",
       "\n",
       "    .dataframe tbody tr th {\n",
       "        vertical-align: top;\n",
       "    }\n",
       "\n",
       "    .dataframe thead th {\n",
       "        text-align: right;\n",
       "    }\n",
       "</style>\n",
       "<table border=\"1\" class=\"dataframe\">\n",
       "  <thead>\n",
       "    <tr style=\"text-align: right;\">\n",
       "      <th></th>\n",
       "      <th>Tags</th>\n",
       "      <th>Count</th>\n",
       "    </tr>\n",
       "  </thead>\n",
       "  <tbody>\n",
       "    <tr>\n",
       "      <th>9</th>\n",
       "      <td>Data Science</td>\n",
       "      <td>11</td>\n",
       "    </tr>\n",
       "    <tr>\n",
       "      <th>21</th>\n",
       "      <td>Lists</td>\n",
       "      <td>12</td>\n",
       "    </tr>\n",
       "    <tr>\n",
       "      <th>30</th>\n",
       "      <td>Regular Expressions</td>\n",
       "      <td>15</td>\n",
       "    </tr>\n",
       "    <tr>\n",
       "      <th>11</th>\n",
       "      <td>Databases</td>\n",
       "      <td>29</td>\n",
       "    </tr>\n",
       "    <tr>\n",
       "      <th>23</th>\n",
       "      <td>Mathematics</td>\n",
       "      <td>40</td>\n",
       "    </tr>\n",
       "    <tr>\n",
       "      <th>3</th>\n",
       "      <td>Arrays</td>\n",
       "      <td>57</td>\n",
       "    </tr>\n",
       "    <tr>\n",
       "      <th>2</th>\n",
       "      <td>Algorithms</td>\n",
       "      <td>63</td>\n",
       "    </tr>\n",
       "    <tr>\n",
       "      <th>35</th>\n",
       "      <td>Strings</td>\n",
       "      <td>83</td>\n",
       "    </tr>\n",
       "    <tr>\n",
       "      <th>32</th>\n",
       "      <td>SQL</td>\n",
       "      <td>86</td>\n",
       "    </tr>\n",
       "    <tr>\n",
       "      <th>17</th>\n",
       "      <td>Fundamentals</td>\n",
       "      <td>292</td>\n",
       "    </tr>\n",
       "  </tbody>\n",
       "</table>\n",
       "</div>"
      ],
      "text/plain": [
       "                   Tags  Count\n",
       "9          Data Science     11\n",
       "21                Lists     12\n",
       "30  Regular Expressions     15\n",
       "11            Databases     29\n",
       "23          Mathematics     40\n",
       "3                Arrays     57\n",
       "2            Algorithms     63\n",
       "35              Strings     83\n",
       "32                  SQL     86\n",
       "17         Fundamentals    292"
      ]
     },
     "execution_count": 20,
     "metadata": {},
     "output_type": "execute_result"
    }
   ],
   "source": [
    "# Looping through series to unpack tags into new rows\n",
    "tag_list = []\n",
    "for i,kata_tags in enumerate(df_kata_combined['Tags']):\n",
    "    for tag in kata_tags:\n",
    "        tag_list.append((df_kata_combined.loc[i,'Kata ID'],\n",
    "                        df_kata_combined.loc[i,'Completed Date'],\n",
    "                        tag))\n",
    "\n",
    "# Creating seperate data frame for unpacking the tags\n",
    "df_tags = pd.DataFrame(data=tag_list,columns=['Kata ID','Completion Period','Tags'])\n",
    "df_tags.to_csv('csv/tags_tableau.csv')\n",
    "   \n",
    "# Applying Groupby to count number of kata completions split by language\n",
    "df_tags = df_tags.groupby(['Tags'])['Tags'].count().reset_index(name='Count')\n",
    "df_tags.sort_values(by=['Count'],inplace=True,ascending=True)\n",
    "df_tags.to_csv('csv/tags.csv')\n",
    "df_tags.tail(10)"
   ]
  },
  {
   "cell_type": "markdown",
   "metadata": {},
   "source": [
    "### Data Visualisation"
   ]
  },
  {
   "cell_type": "code",
   "execution_count": null,
   "metadata": {},
   "outputs": [],
   "source": [
    "def chart_annotation(df,ax,chart_type,x_offset,y_offset):\n",
    "    #Text Annotations\n",
    "    [r,g,b] = [.4,.6,.85]\n",
    "    [lw,pad] = [0.2,3.5]\n",
    "    date_str = date.today().strftime(\"%d-%b-%Y\")\n",
    "    for i,count in enumerate(df['Count']):\n",
    "        if count > 0:\n",
    "            if chart_type == 'bar': \n",
    "                ax.text(i,count*0.5,count,fontsize=10,color='white',weight='bold',\n",
    "                        bbox=dict(fc=(r, g, b), lw=lw, pad=pad),va='center',ha='center')\n",
    "            elif chart_type == 'barh': \n",
    "                ax.text(count*0.5,i,count,fontsize=10,color='white',weight='bold',\n",
    "                        bbox=dict(fc=(r, g, b), lw=lw, pad=pad),va='center',ha='center')\n",
    "\n",
    "    # Positional coordinates for Data Refresh Text\n",
    "    if chart_type == 'bar': \n",
    "        x_pos = df.shape[0] + x_offset\n",
    "        y_pos = df['Count'].max() + y_offset\n",
    "    elif chart_type == 'barh': \n",
    "        x_pos = df['Count'].max() + y_offset\n",
    "        y_pos = df.shape[0] + x_offset\n",
    "    ax = ax.text(x_pos,y_pos,f'Data refreshed:{date_str}',fontsize =9,horizontalalignment='right')"
   ]
  },
  {
   "cell_type": "markdown",
   "metadata": {},
   "source": [
    "#### Monthly Kata Completions"
   ]
  },
  {
   "cell_type": "code",
   "execution_count": null,
   "metadata": {},
   "outputs": [],
   "source": [
    "# Border Parameters\n",
    "border_size = 8\n",
    "border_color = 'darkslategrey'\n",
    "\n",
    "# Making a colormap to map onto the bar chart\n",
    "def cmap_list(df):\n",
    "    clist = [(0, \"lightblue\"), (1, \"steelblue\")]\n",
    "    rvb = mcolors.LinearSegmentedColormap.from_list('',clist)\n",
    "    df_range = np.arange(df.shape[0]).astype(float)\n",
    "    color = rvb(df_range/df.shape[0])\n",
    "    return color"
   ]
  },
  {
   "cell_type": "code",
   "execution_count": null,
   "metadata": {},
   "outputs": [
    {
     "data": {
      "image/png": "[encoded data removed]",
      "text/plain": [
       "<Figure size 1300x300 with 1 Axes>"
      ]
     },
     "metadata": {},
     "output_type": "display_data"
    }
   ],
   "source": [
    "#Plotting a Monthly Completion Rate\n",
    "fig, ax = plt.subplots(figsize=(13,3),linewidth=border_size)\n",
    "chart_type = 'bar'\n",
    "color = cmap_list(df_monthly_count)\n",
    "ax = df_monthly_count.plot('Completed Date','Count',kind=chart_type,ax=ax,width=0.8,ec='darkslategrey',color=color)\n",
    "ax.set_title(f'Monthly Kata Completion Count - {user}',loc='left',fontsize=14)\n",
    "ax.tick_params(axis='x',rotation=0)\n",
    "ax.get_legend().remove()\n",
    "\n",
    "#Setting a backround color\n",
    "fig.set_facecolor('white')\n",
    "\n",
    "#Text Annotations\n",
    "[x_offset,y_offset] = [-0.35,21] #Data refresh text offset\n",
    "chart_annotation(df_monthly_count,ax,chart_type,x_offset,y_offset)\n",
    "plt.tight_layout()\n",
    "\n",
    "#Saving Chart\n",
    "plt.savefig('charts/monthly_complete.png',edgecolor=border_color,dpi=150)"
   ]
  },
  {
   "cell_type": "markdown",
   "metadata": {},
   "source": [
    "##### Web version"
   ]
  },
  {
   "cell_type": "code",
   "execution_count": null,
   "metadata": {},
   "outputs": [
    {
     "data": {
      "image/png": "[encoded data removed]",
      "text/plain": [
       "<Figure size 500x700 with 1 Axes>"
      ]
     },
     "metadata": {},
     "output_type": "display_data"
    }
   ],
   "source": [
    "#Plotting a Monthly Completion Rate\n",
    "fig, ax = plt.subplots(figsize=(5,7),linewidth=border_size)\n",
    "chart_type = 'barh'\n",
    "color = cmap_list(df_monthly_count)\n",
    "ax = df_monthly_count.plot('Completed Date','Count',kind=chart_type,ax=ax,width=0.8,ec='darkslategrey',color=color)\n",
    "ax.set_title(f'Monthly Kata Completion Count - {user}',loc='left',fontsize=14)\n",
    "ax.tick_params(axis='x',rotation=0)\n",
    "ax.get_legend().remove()\n",
    "\n",
    "#Setting a backround color\n",
    "fig.set_facecolor('white')\n",
    "\n",
    "#Text Annotations\n",
    "[x_offset,y_offset] = [-0.5,5] #Data refresh text offset\n",
    "chart_annotation(df_monthly_count,ax,chart_type,x_offset,y_offset)\n",
    "plt.tight_layout()\n",
    "\n",
    "#Saving Chart\n",
    "plt.savefig('charts/monthly_complete_barh.png',edgecolor=border_color,dpi=150)"
   ]
  },
  {
   "cell_type": "markdown",
   "metadata": {},
   "source": [
    "#### Rank Difficulty"
   ]
  },
  {
   "cell_type": "code",
   "execution_count": null,
   "metadata": {},
   "outputs": [
    {
     "name": "stdout",
     "output_type": "stream",
     "text": [
      "['#3B7EBA', '#3B7EBA', '#F4B831', '#F4B831', '#e0e0de', '#e0e0de']\n"
     ]
    }
   ],
   "source": [
    "# Difficulty colors\n",
    "white = '#e0e0de'\n",
    "yellow = '#F4B831'\n",
    "blue= '#3B7EBA'\n",
    "purple= '#856DCC'\n",
    "\n",
    "rank_colors ={\n",
    "     '1 kyu' : purple\n",
    "    ,'2 kyu' : purple\n",
    "    ,'3 kyu' : blue\n",
    "    ,'4 kyu' : blue\n",
    "    ,'5 kyu' : yellow \n",
    "    ,'6 kyu' : yellow \n",
    "    ,'7 kyu' : white \n",
    "    ,'8 kyu' : white \n",
    "}\n",
    "# Making color list for difficulties of Kata\n",
    "rank_color_list =[]\n",
    "unique_ranks = df_rank_count['Rank']\n",
    "for rank in unique_ranks:\n",
    "    rank_color_list.append(rank_colors.get(rank))\n",
    "print(rank_color_list)"
   ]
  },
  {
   "cell_type": "code",
   "execution_count": null,
   "metadata": {},
   "outputs": [
    {
     "data": {
      "image/png": "[encoded data removed]",
      "text/plain": [
       "<Figure size 760x400 with 1 Axes>"
      ]
     },
     "metadata": {},
     "output_type": "display_data"
    }
   ],
   "source": [
    "#Plotting Rank Completions\n",
    "fig, ax = plt.subplots(figsize=(7.6,4),linewidth=border_size)\n",
    "chart_type = 'bar'\n",
    "ax = df_rank_count.plot('Rank','Count',kind=chart_type,ax=ax,width=0.8,ec='darkslategrey',color=rank_color_list)\n",
    "ax.set_title(f'Kata Rank Distribution - {user}',loc='left',fontsize=14)\n",
    "ax.tick_params(axis='x',rotation=0)\n",
    "ax.get_legend().remove()\n",
    "plt.tight_layout()\n",
    "\n",
    "#Setting a backround color\n",
    "fig.set_facecolor('white')\n",
    "\n",
    "# Text Annotations\n",
    "[x_offset,y_offset] = [-0.35,11] #Data refresh text offset\n",
    "chart_annotation(df_rank_count,ax,chart_type,x_offset,y_offset)\n",
    "\n",
    "#Saving Chart\n",
    "plt.savefig('charts/rank_distribution.png',edgecolor=border_color, dpi=150)"
   ]
  },
  {
   "cell_type": "markdown",
   "metadata": {},
   "source": [
    "#### Languages"
   ]
  },
  {
   "cell_type": "code",
   "execution_count": null,
   "metadata": {},
   "outputs": [
    {
     "data": {
      "image/png": "[encoded data removed]",
      "text/plain": [
       "<Figure size 500x400 with 1 Axes>"
      ]
     },
     "metadata": {},
     "output_type": "display_data"
    }
   ],
   "source": [
    "#Plotting a Monthly Completion Rate\n",
    "fig, ax = plt.subplots(figsize=(5, 4), linewidth=border_size, subplot_kw=dict(aspect=\"equal\"))\n",
    "\n",
    "# Arranging Data\n",
    "data = df_lang['Count']\n",
    "lang_total = 0\n",
    "for d in data: lang_total += d\n",
    "uniques = list(set(df_lang['Languages']))\n",
    "language_labels = []\n",
    "for i,r in enumerate(uniques):\n",
    "    language_labels.append(f'{r}\\n{data[i]}')\n",
    "\n",
    "#Setting a backround color\n",
    "fig.set_facecolor('white')\n",
    "\n",
    "# Creating pie elements\n",
    "wedges, texts = ax.pie(data, wedgeprops=dict(width=0.5), startangle=-40)\n",
    "\n",
    "bbox_props = dict(boxstyle=\"square,pad=0.3\", fc=\"w\", ec=\"0\", lw=0.72)\n",
    "kw = dict(arrowprops=dict(arrowstyle=\"-\"),\n",
    "          bbox=bbox_props, zorder=0, va=\"center\")\n",
    "\n",
    "# Annotations\n",
    "ax.set_title(f'\\nKata Language Completions:\\n{user}',color='black',fontsize=13)\n",
    "ax.annotate(f'Kata Solved\\n{lang_total}', xy=(0, 0), xytext=(0, 0),\n",
    "            horizontalalignment='center',fontsize = 10.5, **kw)\n",
    "\n",
    "\n",
    "for i, p in enumerate(wedges):\n",
    "    ang = (p.theta2 - p.theta1)/2. + p.theta1\n",
    "    y = np.sin(np.deg2rad(ang))\n",
    "    x = np.cos(np.deg2rad(ang))\n",
    "    horizontalalignment = {-1: \"right\", 1: \"left\"}[int(np.sign(x))]\n",
    "    connectionstyle = \"angle,angleA=0,angleB={}\".format(ang)\n",
    "    kw[\"arrowprops\"].update({\"connectionstyle\": connectionstyle})\n",
    "    ax.annotate(language_labels[i], xy=(x, y), xytext=(1.35*np.sign(x), 1.1*y),\n",
    "                horizontalalignment='center',fontsize = 9, **kw)\n",
    "\n",
    "#Saving Chart\n",
    "plt.savefig('charts/language_pie.png',edgecolor=border_color,dpi=150)"
   ]
  },
  {
   "cell_type": "code",
   "execution_count": null,
   "metadata": {},
   "outputs": [
    {
     "data": {
      "image/png": "[encoded data removed]",
      "text/plain": [
       "<Figure size 800x712.5 with 1 Axes>"
      ]
     },
     "metadata": {},
     "output_type": "display_data"
    }
   ],
   "source": [
    "#Plotting Categories\n",
    "number_of_tags = 10\n",
    "plot_tags = df_tags.tail(number_of_tags)\n",
    "color = cmap_list(plot_tags)\n",
    "fig, ax = plt.subplots(figsize=(8,7.125),linewidth=border_size)\n",
    "chart_type = 'barh'\n",
    "ax = plot_tags.plot('Tags','Count',kind=chart_type,ax=ax,width=0.8,ec='darkslategrey',color=color)\n",
    "ax.set_title(f'Top {number_of_tags} Kata Categories - {user}',loc='left',fontsize=14)\n",
    "ax.tick_params(axis='x',rotation=0)\n",
    "ax.get_legend().remove()\n",
    "ax.set_ylabel('')\n",
    "ax.set_xlabel('Kata Tag Occurrences')\n",
    "plt.tight_layout()\n",
    "\n",
    "#Setting a backround color\n",
    "fig.set_facecolor('white')\n",
    "\n",
    "# Text Annotations\n",
    "[x_offset,y_offset] = [-0.2,2.8] #Data refresh text offset\n",
    "chart_annotation(plot_tags,ax,chart_type,x_offset,y_offset)\n",
    "\n",
    "#Saving Chart\n",
    "plt.savefig('charts/top_tags.png',edgecolor = border_color,dpi = 150)"
   ]
  },
  {
   "cell_type": "markdown",
   "metadata": {},
   "source": [
    "### Initialising XlsxWriter Workbook And Exporting Tables to .xlsx"
   ]
  },
  {
   "cell_type": "markdown",
   "metadata": {},
   "source": [
    "#### Tables"
   ]
  },
  {
   "cell_type": "code",
   "execution_count": null,
   "metadata": {},
   "outputs": [],
   "source": [
    "#-------------------------------------------------------\n",
    "#-------------.xlsx workbook initialisation-------------\n",
    "#-------------------------------------------------------\n",
    "\n",
    "#Excel Output Filepath\n",
    "excelpath = pathing('xlsx_data',f'codewars_stats_{user}.xlsx')\n",
    "\n",
    "#Generating .xlsx workbook in which to record dataframes for usage.\n",
    "writer = pd.ExcelWriter(excelpath,engine='xlsxwriter')   \n",
    "workbook=writer.book\n",
    "worksheet='' #Initialise variable\n",
    "startrow = 0 #Initialise variable\n",
    "startcol = 0 #Initialise variable"
   ]
  },
  {
   "cell_type": "code",
   "execution_count": null,
   "metadata": {},
   "outputs": [],
   "source": [
    "#Summary Table\n",
    "data_table = df_profile\n",
    "sheet_name = 'Tables'\n",
    "title_str = f'{user} Codewars Stats since {date_str}'\n",
    "col_width_list = [31,60,22,26,15,15,17,11,60,11,11]\n",
    "[startrow,startcol,worksheet,workbook,writer] = xlsx_table_writer(data_table,sheet_name,col_width_list,\n",
    "                                                                title_str,startrow,startcol,\n",
    "                                                                worksheet,workbook,writer)"
   ]
  },
  {
   "cell_type": "code",
   "execution_count": null,
   "metadata": {},
   "outputs": [],
   "source": [
    "#Summary Table\n",
    "data_table = df_kata_combined\n",
    "sheet_name = 'Tables'\n",
    "title_str = f'Kata Compeleted By {user} since {date_str}'\n",
    "[startrow,startcol,worksheet,workbook,writer] = xlsx_table_writer(data_table,sheet_name,col_width_list,\n",
    "                                                                title_str,startrow,startcol,\n",
    "                                                                worksheet,workbook,writer)"
   ]
  },
  {
   "cell_type": "markdown",
   "metadata": {},
   "source": [
    "#### Dashboard/Charts"
   ]
  },
  {
   "cell_type": "code",
   "execution_count": null,
   "metadata": {},
   "outputs": [],
   "source": [
    "# Adding and changing active sheet\n",
    "sheet_name = 'Dashboard'\n",
    "try:\n",
    "    worksheet=workbook.add_worksheet(sheet_name)\n",
    "    writer.sheets[sheet_name] = worksheet \n",
    "    worksheet.set_zoom(95)\n",
    "except:\n",
    "    pass\n"
   ]
  },
  {
   "cell_type": "code",
   "execution_count": null,
   "metadata": {},
   "outputs": [
    {
     "data": {
      "text/plain": [
       "0"
      ]
     },
     "execution_count": 31,
     "metadata": {},
     "output_type": "execute_result"
    }
   ],
   "source": [
    "# Positioning matplotlib charts onto xlsx dashboard\n",
    "v_space = 15\n",
    "worksheet.insert_image(0,0,'charts/monthly_complete.png')\n",
    "worksheet.insert_image(v_space,0,'charts/language_pie.png')\n",
    "worksheet.insert_image(v_space,8,'charts/rank_distribution.png')\n",
    "worksheet.insert_image(0,20,'charts/top_tags.png')"
   ]
  },
  {
   "cell_type": "code",
   "execution_count": null,
   "metadata": {},
   "outputs": [],
   "source": [
    "#Save Excel File Close workbook instance\n",
    "writer.close()"
   ]
  }
 ],
 "metadata": {
  "kernelspec": {
   "display_name": "base",
   "language": "python",
   "name": "python3"
  },
  "language_info": {
   "codemirror_mode": {
    "name": "ipython",
    "version": 3
   },
   "file_extension": ".py",
   "mimetype": "text/x-python",
   "name": "python",
   "nbconvert_exporter": "python",
   "pygments_lexer": "ipython3",
   "version": "3.9.13"
  },
  "orig_nbformat": 4,
  "vscode": {
   "interpreter": {
    "hash": "f807ba27e346b85063f51739bb6caf54ab974bed72f7f9a2b1de876933efae96"
   }
  }
 },
 "nbformat": 4,
 "nbformat_minor": 2
}
