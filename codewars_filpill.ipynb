{
 "cells": [
  {
   "cell_type": "code",
   "execution_count": null,
   "metadata": {},
   "outputs": [],
   "source": [
    "import sys\n",
    "import requests\n",
    "import xlsxwriter\n",
    "import numpy as np\n",
    "import pandas as pd\n",
    "import matplotlib as mpl\n",
    "import matplotlib.pyplot as plt\n",
    "import matplotlib.colors as mcolors\n",
    "from json import loads\n",
    "from datetime import date\n",
    "from dateutil.relativedelta import relativedelta"
   ]
  },
  {
   "cell_type": "markdown",
   "metadata": {},
   "source": [
    "### Function for Transforming DataFrame in Excel Object"
   ]
  },
  {
   "cell_type": "code",
   "execution_count": 604,
   "metadata": {},
   "outputs": [],
   "source": [
    "#Function for Writing .xlsx Data Tables which will provide a standard output for table formatting \n",
    "def xlsx_table_writer(data_table,sheet_name,col_width_list,title_str,startrow,startcol,worksheet,workbook,writer):\n",
    "\n",
    "    #Layout/Formatting\n",
    "    t_vert_spacing = 5 #Vertical Spacing between tables\n",
    "    t_horz_spacing = 1 #Horizontal Spacing between tables\n",
    "    title_format = workbook.add_format({'bold': True, 'font_size' : 20, 'fg_color' : '#76933C', 'font_color' : 'white' }) #Standardised Title Format for all tables\n",
    "    header_format = workbook.add_format({'bold' : True, 'font_size' : 12, 'text_wrap' : True}) #text-wrapping for table headers\n",
    "\n",
    "    # Rank Colouring\n",
    "    white_format = workbook.add_format({'font_size' : 9,'bg_color' : '#e0e0de','font_color': 'black'})\n",
    "    yellow_format = workbook.add_format({'font_size' : 9,'bg_color' : '#F4B831','font_color': 'black'})\n",
    "    blue_format = workbook.add_format({'font_size' : 9,'bg_color' : '#3B7EBA','font_color': 'white'})\n",
    "    purple_format = workbook.add_format({'font_size' : 9,'bg_color' : '#856DCC','font_color': 'white'})\n",
    "    \n",
    "    # Adding and changing active sheet\n",
    "    try:\n",
    "        worksheet=workbook.add_worksheet(sheet_name)\n",
    "        writer.sheets[sheet_name] = worksheet \n",
    "        worksheet.set_zoom(70)\n",
    "        startrow = 3\n",
    "        startcol = 1\n",
    "    except:\n",
    "        pass\n",
    "\n",
    "    for i in range(len(col_width_list)):\n",
    "        worksheet.set_column(i+startcol, i+startcol, col_width_list[i])\n",
    "\n",
    "    #Writing in Cell Data and Merging Cells for Table Titles\n",
    "    data_table.to_excel(writer,sheet_name=sheet_name,startrow=startrow , startcol=startcol, index=False, header=False)\n",
    "    worksheet.merge_range(startrow-2, startcol,startrow-2,data_table.shape[1] + startcol -1, title_str,title_format) #writing in title formatting above table\n",
    "\n",
    "    #Conditional Formatting For Colors of Ranks\n",
    "    worksheet.conditional_format(startrow,startcol + data_table.shape[1]-2,data_table.shape[0]+startrow-1,data_table.shape[1]+ startcol -1,{'type':'text', 'criteria': 'containing', 'value': 'white', 'format': white_format}  )\n",
    "    worksheet.conditional_format(startrow,startcol + data_table.shape[1]-2,data_table.shape[0]+startrow-1,data_table.shape[1]+ startcol -1,{'type':'text', 'criteria': 'containing', 'value': '8 kyu', 'format': white_format}  )\n",
    "    worksheet.conditional_format(startrow,startcol + data_table.shape[1]-2,data_table.shape[0]+startrow-1,data_table.shape[1]+ startcol -1,{'type':'text', 'criteria': 'containing', 'value': '7 kyu', 'format': white_format}  )\n",
    "\n",
    "    worksheet.conditional_format(startrow,startcol + data_table.shape[1]-2,data_table.shape[0]+startrow-1,data_table.shape[1]+ startcol -1,{'type':'text', 'criteria': 'containing', 'value': 'yellow', 'format': yellow_format}  )\n",
    "    worksheet.conditional_format(startrow,startcol + data_table.shape[1]-2,data_table.shape[0]+startrow-1,data_table.shape[1]+ startcol -1,{'type':'text', 'criteria': 'containing', 'value': '6 kyu', 'format': yellow_format}  )\n",
    "    worksheet.conditional_format(startrow,startcol + data_table.shape[1]-2,data_table.shape[0]+startrow-1,data_table.shape[1]+ startcol -1,{'type':'text', 'criteria': 'containing', 'value': '5 kyu', 'format': yellow_format}  )\n",
    "\n",
    "    worksheet.conditional_format(startrow,startcol + data_table.shape[1]-2,data_table.shape[0]+startrow-1,data_table.shape[1]+ startcol -1,{'type':'text', 'criteria': 'containing', 'value': 'blue', 'format': blue_format}  )\n",
    "    worksheet.conditional_format(startrow,startcol + data_table.shape[1]-2,data_table.shape[0]+startrow-1,data_table.shape[1]+ startcol -1,{'type':'text', 'criteria': 'containing', 'value': '4 kyu', 'format': blue_format}  )\n",
    "    worksheet.conditional_format(startrow,startcol + data_table.shape[1]-2,data_table.shape[0]+startrow-1,data_table.shape[1]+ startcol -1,{'type':'text', 'criteria': 'containing', 'value': '3 kyu', 'format': blue_format}  )\n",
    "\n",
    "    worksheet.conditional_format(startrow,startcol + data_table.shape[1]-2,data_table.shape[0]+startrow-1,data_table.shape[1]+ startcol -1,{'type':'text', 'criteria': 'containing', 'value': 'purple', 'format': purple_format}  )\n",
    "    worksheet.conditional_format(startrow,startcol + data_table.shape[1]-2,data_table.shape[0]+startrow-1,data_table.shape[1]+ startcol -1,{'type':'text', 'criteria': 'containing', 'value': '2 kyu', 'format': purple_format}  )\n",
    "    worksheet.conditional_format(startrow,startcol + data_table.shape[1]-2,data_table.shape[0]+startrow-1,data_table.shape[1]+ startcol -1,{'type':'text', 'criteria': 'containing', 'value': '1 kyu', 'format': purple_format}  )\n",
    "\n",
    "\n",
    "    #Column settings to use in add table function\n",
    "    column_settings = [{'header' : column} for column in data_table.columns]\n",
    "\n",
    "    #Populating Excel with Table Format - Adding table to xls for each df\n",
    "    worksheet.add_table(startrow-1, startcol, startrow + data_table.shape[0]-1, data_table.shape[1] + startcol - 1, {'columns' : column_settings, 'style': 'Table Style Medium 4', 'autofilter' : False})   \n",
    "\n",
    "    #Applying a text wrap to the Column Header\n",
    "    for col_num, value in enumerate(data_table.columns.values):\n",
    "        worksheet.write(startrow-1, col_num + startcol, value, header_format)\n",
    "    \n",
    "    #Setting Positions of Following Tables Insertions\n",
    "    startrow = startrow + data_table.shape[0] + t_vert_spacing #Setting to start row for next table\n",
    "    # startrow = 3  \n",
    "    # startcol = startcol + data_table.shape[1] + t_horz_spacing  #Disabling horizontally displaced tables in favour of vertically displacements\n",
    "    startcol = 1\n",
    "\n",
    "    #Setting the column width at the end of the table to keep to spacing minimal between tables\n",
    "    worksheet.set_column(startcol-1,startcol-1,1)\n",
    "    \n",
    "    #Return the start row in order to index for future function calls\n",
    "    return [startrow,startcol,worksheet,workbook,writer]"
   ]
  },
  {
   "cell_type": "code",
   "execution_count": null,
   "metadata": {},
   "outputs": [],
   "source": [
    "#Function to Detect Operating System and Adjust Pathing to Respective Filesystem\n",
    "def pathing(folder_path,filename):\n",
    "\n",
    "    #Windows Operating System\n",
    "    if 'win' in sys.platform:\n",
    "        if folder_path == 'root':\n",
    "            filepath = f'{sys.path[0]}\\\\{filename}'\n",
    "        else:\n",
    "            filepath = f'{sys.path[0]}\\\\{folder_path}\\\\{filename}'\n",
    "    #Linux/Mac Operating Sytem\n",
    "    else:\n",
    "        if folder_path == 'root':\n",
    "            filepath = f'{sys.path[0]}/{filename}'\n",
    "        else:\n",
    "            filepath = f'{sys.path[0]}/{folder_path}/{filename}'\n",
    "\n",
    "    return filepath"
   ]
  },
  {
   "cell_type": "markdown",
   "metadata": {},
   "source": [
    "### User Inputs"
   ]
  },
  {
   "cell_type": "code",
   "execution_count": null,
   "metadata": {},
   "outputs": [],
   "source": [
    "user = \"Filpill\""
   ]
  },
  {
   "cell_type": "markdown",
   "metadata": {},
   "source": [
    "### User Overview"
   ]
  },
  {
   "cell_type": "code",
   "execution_count": null,
   "metadata": {},
   "outputs": [],
   "source": [
    "url = f\"https://www.codewars.com/api/v1/users/{user}\"\n",
    "response = requests.get(url)\n",
    "json_data = loads(response.text)\n",
    "print(\"Status:\",response.status_code)\n",
    "curated_cols = ['username','honor','leaderboardPosition','ranks.overall.name','ranks.languages.python.score','ranks.languages.sql.score','ranks.overall.score','codeChallenges.totalCompleted']\n",
    "df_profile = pd.json_normalize(json_data)\n",
    "profile_cols = list(df_profile.columns)\n",
    "df_profile = df_profile[df_profile.columns.intersection(curated_cols)]\n",
    "df_profile"
   ]
  },
  {
   "cell_type": "markdown",
   "metadata": {},
   "source": [
    "### List of Completed Challenges"
   ]
  },
  {
   "cell_type": "code",
   "execution_count": null,
   "metadata": {},
   "outputs": [],
   "source": [
    "page = 0\n",
    "url = f\"https://www.codewars.com/api/v1/users/{user}/code-challenges/completed?page={page}\"\n",
    "response = requests.get(url)\n",
    "json_data = loads(response.text)\n",
    "print(\"Status:\",response.status_code)\n",
    "raw_data = pd.json_normalize(json_data)\n",
    "df_complete = pd.DataFrame.from_dict(raw_data.loc[0,'data'])\n",
    "df_complete.drop(columns = 'slug',inplace=True)\n",
    "for i,dt in enumerate(df_complete['completedAt']): df_complete.loc[i,'completedAt'] = dt[0:10] #Fixing Date Formats, Only extracting date component\n",
    "df_complete['completedAt'] = pd.to_datetime(df_complete['completedAt'],format='%Y-%m-%d')\n",
    "df_complete['Completion Period'] = df_complete['completedAt'].dt.strftime(\"%b-%y\")\n",
    "print(type(df_complete['completedAt'][0]))\n",
    "completed_list = list(df_complete['id'])\n",
    "df_complete.head(2)"
   ]
  },
  {
   "cell_type": "markdown",
   "metadata": {},
   "source": [
    "### Getting Details of Code Challenges Completed By User"
   ]
  },
  {
   "cell_type": "code",
   "execution_count": null,
   "metadata": {},
   "outputs": [],
   "source": [
    "url = f\"https://www.codewars.com/api/v1/code-challenges/{completed_list[0]}\"\n",
    "response = requests.get(url)\n",
    "json_data = loads(response.text)\n",
    "details_cols =  list(pd.json_normalize(json_data).columns)\n",
    "df_kata = pd.DataFrame(columns=details_cols) #Making empty dataframe with relevant columns\n",
    "\n",
    "#Looping through all the completed challenge id's\n",
    "for kata_id in completed_list:\n",
    "    url = f\"https://www.codewars.com/api/v1/code-challenges/{kata_id}\"\n",
    "    response = requests.get(url)\n",
    "    json_data = loads(response.text)\n",
    "    row = pd.json_normalize(json_data)\n",
    "    df_kata = pd.concat([df_kata,row]) \n",
    "df_kata.head(2)"
   ]
  },
  {
   "cell_type": "markdown",
   "metadata": {},
   "source": [
    "### Splitting Out The Details Into Lists"
   ]
  },
  {
   "cell_type": "code",
   "execution_count": null,
   "metadata": {},
   "outputs": [],
   "source": [
    "challenge_details = list(df_kata.columns)\n",
    "selected_details = ['id','totalAttempts','totalCompleted','rank.name','rank.color','category','tags']\n",
    "print(challenge_details)\n",
    "df_details_select = df_kata[df_kata.columns.intersection(selected_details)]\n",
    "df_details_select.head(2)"
   ]
  },
  {
   "cell_type": "markdown",
   "metadata": {},
   "source": [
    "### Merging Details onto Completitons via the Kata ID"
   ]
  },
  {
   "cell_type": "code",
   "execution_count": null,
   "metadata": {},
   "outputs": [],
   "source": [
    "df_kata_combined = pd.merge(df_complete,df_details_select,on='id',how='left')\n",
    "df_kata_combined.head(2)"
   ]
  },
  {
   "cell_type": "markdown",
   "metadata": {},
   "source": [
    "### Re-naming Columns"
   ]
  },
  {
   "cell_type": "code",
   "execution_count": null,
   "metadata": {},
   "outputs": [],
   "source": [
    "df_profile.rename(columns={ 'username':'Username',\n",
    "                           'honor':'Honor',\n",
    "                           'leaderboardPosition':'Leaderboard',\n",
    "                           'ranks.overall.name':'Overall Rank',\n",
    "                           'ranks.languages.python.score':'Python Score',\n",
    "                           'ranks.languages.sql.score':'SQL Score',\n",
    "                           'ranks.overall.score':'Total Score'\n",
    "                           },inplace=True)\n",
    "\n",
    "df_kata_combined.rename(columns={'id':'Kata ID',\n",
    "                           'name':'Kata Name',\n",
    "                           'completedLanguages':'Languages',\n",
    "                           'completedAt':'Completed Date',\n",
    "                           'category':'Category',\n",
    "                           'totalAttempts':'Total Attempts',\n",
    "                           'totalCompleted':'Total Completed',\n",
    "                           'tags':'Tags',\n",
    "                           'rank.name':'Rank',\n",
    "                           'rank.color':'Color'\n",
    "                           },inplace=True)\n",
    "df_kata_combined.head(2)"
   ]
  },
  {
   "cell_type": "markdown",
   "metadata": {},
   "source": [
    "### Data Aggregation"
   ]
  },
  {
   "cell_type": "code",
   "execution_count": null,
   "metadata": {},
   "outputs": [],
   "source": [
    "# Creating Date Range List\n",
    "date_str = date.today().strftime(\"%d-%b-%Y\")\n",
    "start_date = df_kata_combined['Completed Date'].min()\n",
    "end_date = df_kata_combined['Completed Date'].max() + relativedelta(months=1)\n",
    "date_rng = pd.date_range(start = start_date, end = end_date, freq = 'M').tolist()"
   ]
  },
  {
   "cell_type": "markdown",
   "metadata": {},
   "source": [
    "#### Category Count"
   ]
  },
  {
   "cell_type": "code",
   "execution_count": null,
   "metadata": {},
   "outputs": [],
   "source": [
    "df_category = df_kata_combined.groupby(['Category'])['Category'].count().reset_index(name='Count')\n",
    "df_category.sort_values(by=['Count'],inplace=True,ascending=False)\n",
    "df_category"
   ]
  },
  {
   "cell_type": "markdown",
   "metadata": {},
   "source": [
    "#### Monthly Kata Completions"
   ]
  },
  {
   "cell_type": "code",
   "execution_count": null,
   "metadata": {},
   "outputs": [],
   "source": [
    "df_monthly_count = df_kata_combined.groupby(['Completed Date'])['Completed Date'].count()\n",
    "df_monthly_count = df_monthly_count.groupby([pd.Grouper(level='Completed Date',freq='1M')]).sum().reset_index(name='Count')\n",
    "for i,val in enumerate(date_rng): \n",
    "   df_monthly_count.loc[i,'Completed Date']  = val.strftime(\"%b-%y\")\n",
    "df_monthly_count"
   ]
  },
  {
   "cell_type": "markdown",
   "metadata": {},
   "source": [
    "#### Rank Difficulty"
   ]
  },
  {
   "cell_type": "code",
   "execution_count": 464,
   "metadata": {},
   "outputs": [
    {
     "data": {
      "text/html": [
       "<div>\n",
       "<style scoped>\n",
       "    .dataframe tbody tr th:only-of-type {\n",
       "        vertical-align: middle;\n",
       "    }\n",
       "\n",
       "    .dataframe tbody tr th {\n",
       "        vertical-align: top;\n",
       "    }\n",
       "\n",
       "    .dataframe thead th {\n",
       "        text-align: right;\n",
       "    }\n",
       "</style>\n",
       "<table border=\"1\" class=\"dataframe\">\n",
       "  <thead>\n",
       "    <tr style=\"text-align: right;\">\n",
       "      <th></th>\n",
       "      <th>Rank</th>\n",
       "      <th>Count</th>\n",
       "    </tr>\n",
       "  </thead>\n",
       "  <tbody>\n",
       "    <tr>\n",
       "      <th>0</th>\n",
       "      <td>4 kyu</td>\n",
       "      <td>8</td>\n",
       "    </tr>\n",
       "    <tr>\n",
       "      <th>1</th>\n",
       "      <td>5 kyu</td>\n",
       "      <td>29</td>\n",
       "    </tr>\n",
       "    <tr>\n",
       "      <th>2</th>\n",
       "      <td>6 kyu</td>\n",
       "      <td>42</td>\n",
       "    </tr>\n",
       "    <tr>\n",
       "      <th>3</th>\n",
       "      <td>7 kyu</td>\n",
       "      <td>6</td>\n",
       "    </tr>\n",
       "    <tr>\n",
       "      <th>4</th>\n",
       "      <td>8 kyu</td>\n",
       "      <td>1</td>\n",
       "    </tr>\n",
       "  </tbody>\n",
       "</table>\n",
       "</div>"
      ],
      "text/plain": [
       "    Rank  Count\n",
       "0  4 kyu      8\n",
       "1  5 kyu     29\n",
       "2  6 kyu     42\n",
       "3  7 kyu      6\n",
       "4  8 kyu      1"
      ]
     },
     "execution_count": 464,
     "metadata": {},
     "output_type": "execute_result"
    }
   ],
   "source": [
    "df_rank_count = df_kata_combined.groupby(['Rank'])['Rank'].count().reset_index(name='Count')\n",
    "# df_rank_count.sort_values(by=['Count'],inplace=True,ascending=False)\n",
    "df_rank_count "
   ]
  },
  {
   "cell_type": "markdown",
   "metadata": {},
   "source": [
    "#### Language Completions"
   ]
  },
  {
   "cell_type": "code",
   "execution_count": null,
   "metadata": {},
   "outputs": [],
   "source": [
    "# Looping through series to unpack language list into new rows\n",
    "lang_comp = []\n",
    "for i,lang_list in enumerate(df_kata_combined['Languages']):\n",
    "    for lang in lang_list:\n",
    "        lang_comp.append((df_kata_combined.loc[i,'Kata ID'],\n",
    "                        df_kata_combined.loc[i,'Completed Date'],\n",
    "                        lang))\n",
    "\n",
    "# Creating seperate data frame for unpacking the programming languages\n",
    "df_lang = pd.DataFrame(data=lang_comp,columns=['Kata ID','Completion Period','Languages'])\n",
    "for i in range(df_lang.shape[0]): \n",
    "   df_lang.loc[i,'Completion Period']  = df_lang.loc[i,'Completion Period'].strftime(\"%b-%y\")\n",
    "   \n",
    "# Applying Groupby to count number of kata completions split by language\n",
    "df_lang = df_lang.groupby(['Languages'])['Languages'].count().reset_index(name='Count')\n",
    "df_lang"
   ]
  },
  {
   "cell_type": "markdown",
   "metadata": {},
   "source": [
    "#### Tags"
   ]
  },
  {
   "cell_type": "code",
   "execution_count": null,
   "metadata": {},
   "outputs": [],
   "source": [
    "# Looping through series to unpack tags into new rows\n",
    "tag_list = []\n",
    "for i,kata_tags in enumerate(df_kata_combined['Tags']):\n",
    "    for tag in kata_tags:\n",
    "        tag_list.append((df_kata_combined.loc[i,'Kata ID'],\n",
    "                        df_kata_combined.loc[i,'Completed Date'],\n",
    "                        tag))\n",
    "\n",
    "# Creating seperate data frame for unpacking the tags\n",
    "df_tags = pd.DataFrame(data=tag_list,columns=['Kata ID','Completion Period','Tags'])\n",
    "for i in range(df_tags.shape[0]): \n",
    "   df_tags.loc[i,'Completion Period']  = df_tags.loc[i,'Completion Period'].strftime(\"%b-%y\")\n",
    "   \n",
    "# Applying Groupby to count number of kata completions split by language\n",
    "df_tags = df_tags.groupby(['Tags'])['Tags'].count().reset_index(name='Count')\n",
    "df_tags.sort_values(by=['Count'],inplace=True,ascending=True)\n",
    "df_tags.tail(10)"
   ]
  },
  {
   "cell_type": "markdown",
   "metadata": {},
   "source": [
    "### Data Visualisation"
   ]
  },
  {
   "cell_type": "code",
   "execution_count": 480,
   "metadata": {},
   "outputs": [],
   "source": [
    "def chart_annotation(df,ax,chart_type,x_offset,y_offset):\n",
    "    #Text Annotations\n",
    "    [r,g,b] = [.4,.6,.85]\n",
    "    [lw,pad] = [0.2,3.5]\n",
    "    date_str = date.today().strftime(\"%d-%b-%Y\")\n",
    "    for i,count in enumerate(df['Count']):\n",
    "        if count > 0:\n",
    "            if chart_type == 'bar': \n",
    "                ax.text(i,count*0.5,count,fontsize=10,color='white',weight='bold',\n",
    "                        bbox=dict(fc=(r, g, b), lw=lw, pad=pad),va='center',ha='center')\n",
    "            elif chart_type == 'barh': \n",
    "                ax.text(count*0.5,i,count,fontsize=10,color='white',weight='bold',\n",
    "                        bbox=dict(fc=(r, g, b), lw=lw, pad=pad),va='center',ha='center')\n",
    "\n",
    "    # Positional coordinates for Data Refresh Text\n",
    "    if chart_type == 'bar': \n",
    "        x_pos = df.shape[0] + x_offset\n",
    "        y_pos = df['Count'].max() + y_offset\n",
    "    elif chart_type == 'barh': \n",
    "        x_pos = df['Count'].max() + y_offset\n",
    "        y_pos = df.shape[0] + x_offset\n",
    "    ax = ax.text(x_pos,y_pos,f'Data refreshed:{date_str}',fontsize =9,horizontalalignment='right')"
   ]
  },
  {
   "cell_type": "markdown",
   "metadata": {},
   "source": [
    "#### Monthly Kata Completions"
   ]
  },
  {
   "cell_type": "code",
   "execution_count": 481,
   "metadata": {},
   "outputs": [],
   "source": [
    "# Border Parameters\n",
    "border_size = 8\n",
    "border_color = 'darkslategrey'\n",
    "\n",
    "# Making a colormap to map onto the bar chart\n",
    "def cmap_list(df):\n",
    "    clist = [(0, \"lightblue\"), (1, \"steelblue\")]\n",
    "    rvb = mcolors.LinearSegmentedColormap.from_list('',clist)\n",
    "    df_range = np.arange(df.shape[0]).astype(float)\n",
    "    color = rvb(df_range/df.shape[0])\n",
    "    return color"
   ]
  },
  {
   "cell_type": "code",
   "execution_count": 500,
   "metadata": {},
   "outputs": [
    {
     "data": {
      "image/png": "[encoded data removed]",
      "text/plain": [
       "<Figure size 936x216 with 1 Axes>"
      ]
     },
     "metadata": {},
     "output_type": "display_data"
    }
   ],
   "source": [
    "#Plotting a Monthly Completion Rate\n",
    "fig, ax = plt.subplots(figsize=(13,3),linewidth=border_size)\n",
    "chart_type = 'bar'\n",
    "color = cmap_list(df_monthly_count)\n",
    "ax = df_monthly_count.plot('Completed Date','Count',kind=chart_type,ax=ax,width=0.8,ec='darkslategrey',color=color)\n",
    "ax.set_title(f'Monthly Kata Completion Count - {user}',loc='left',fontsize=14)\n",
    "ax.tick_params(axis='x',rotation=0)\n",
    "ax.get_legend().remove()\n",
    "\n",
    "#Setting a backround color\n",
    "fig.set_facecolor('white')\n",
    "\n",
    "#Text Annotations\n",
    "[x_offset,y_offset] = [-0.35,2.5] #Data refresh text offset\n",
    "chart_annotation(df_monthly_count,ax,chart_type,x_offset,y_offset)\n",
    "plt.tight_layout()\n",
    "\n",
    "#Saving Chart\n",
    "plt.savefig('charts/monthly_complete.png',edgecolor=border_color,dpi=150)"
   ]
  },
  {
   "cell_type": "markdown",
   "metadata": {},
   "source": [
    "#### Rank Difficulty"
   ]
  },
  {
   "cell_type": "code",
   "execution_count": 483,
   "metadata": {},
   "outputs": [],
   "source": [
    "# Difficulty colors\n",
    "white = '#e0e0de'\n",
    "yellow = '#F4B831'\n",
    "blue= '#3B7EBA'\n",
    "purple= '#856DCC'\n",
    "\n",
    "rank_colors ={\n",
    "     '1 kyu' : purple\n",
    "    ,'2 kyu' : purple\n",
    "    ,'3 kyu' : blue\n",
    "    ,'4 kyu' : blue\n",
    "    ,'5 kyu' : yellow \n",
    "    ,'6 kyu' : yellow \n",
    "    ,'7 kyu' : white \n",
    "    ,'8 kyu' : white \n",
    "}\n",
    "# Making color list for difficulties of Kata\n",
    "rank_color_list =[]\n",
    "unique_ranks = df_rank_count['Rank']\n",
    "for rank in unique_ranks:\n",
    "    rank_color_list.append(rank_colors.get(rank))"
   ]
  },
  {
   "cell_type": "code",
   "execution_count": 597,
   "metadata": {},
   "outputs": [
    {
     "data": {
      "image/png": "[encoded data removed]",
      "text/plain": [
       "<Figure size 547.2x288 with 1 Axes>"
      ]
     },
     "metadata": {},
     "output_type": "display_data"
    }
   ],
   "source": [
    "#Plotting Rank Completions\n",
    "fig, ax = plt.subplots(figsize=(7.6,4),linewidth=border_size)\n",
    "chart_type = 'bar'\n",
    "ax = df_rank_count.plot('Rank','Count',kind=chart_type,ax=ax,width=0.8,ec='darkslategrey',color=rank_color_list)\n",
    "ax.set_title(f'Kata Rank Distribution - {user}',loc='left',fontsize=14)\n",
    "ax.tick_params(axis='x',rotation=0)\n",
    "ax.get_legend().remove()\n",
    "plt.tight_layout()\n",
    "\n",
    "#Setting a backround color\n",
    "fig.set_facecolor('white')\n",
    "\n",
    "# Text Annotations\n",
    "[x_offset,y_offset] = [-0.35,3] #Data refresh text offset\n",
    "chart_annotation(df_rank_count,ax,chart_type,x_offset,y_offset)\n",
    "\n",
    "#Saving Chart\n",
    "plt.savefig('charts/rank_distribution.png',edgecolor=border_color, dpi=150)"
   ]
  },
  {
   "cell_type": "markdown",
   "metadata": {},
   "source": [
    "#### Languages"
   ]
  },
  {
   "cell_type": "code",
   "execution_count": 537,
   "metadata": {},
   "outputs": [
    {
     "data": {
      "image/png": "[encoded data removed]",
      "text/plain": [
       "<Figure size 360x288 with 1 Axes>"
      ]
     },
     "metadata": {},
     "output_type": "display_data"
    }
   ],
   "source": [
    "#Plotting a Monthly Completion Rate\n",
    "fig, ax = plt.subplots(figsize=(5, 4), linewidth=border_size, subplot_kw=dict(aspect=\"equal\"))\n",
    "\n",
    "# Arranging Data\n",
    "data = df_lang['Count']\n",
    "lang_total = 0\n",
    "for d in data: lang_total += d\n",
    "uniques = list(set(df_lang['Languages']))\n",
    "language_labels = []\n",
    "for i,r in enumerate(uniques):\n",
    "    language_labels.append(f'{r}\\n{data[i]}')\n",
    "\n",
    "# Annotations\n",
    "ax.set_title(f'\\nKata Language Completions:\\n{user}',color='black',fontsize=13)\n",
    "ax.annotate(f'Kata Solved\\n{lang_total}', xy=(0, 0), xytext=(0, 0),\n",
    "            horizontalalignment='center',fontsize = 10.5, **kw)\n",
    "\n",
    "#Setting a backround color\n",
    "fig.set_facecolor('white')\n",
    "\n",
    "# Creating pie elements\n",
    "wedges, texts = ax.pie(data, wedgeprops=dict(width=0.5), startangle=-40)\n",
    "\n",
    "bbox_props = dict(boxstyle=\"square,pad=0.3\", fc=\"w\", ec=\"0\", lw=0.72)\n",
    "kw = dict(arrowprops=dict(arrowstyle=\"-\"),\n",
    "          bbox=bbox_props, zorder=0, va=\"center\")\n",
    "\n",
    "for i, p in enumerate(wedges):\n",
    "    ang = (p.theta2 - p.theta1)/2. + p.theta1\n",
    "    y = np.sin(np.deg2rad(ang))\n",
    "    x = np.cos(np.deg2rad(ang))\n",
    "    horizontalalignment = {-1: \"right\", 1: \"left\"}[int(np.sign(x))]\n",
    "    connectionstyle = \"angle,angleA=0,angleB={}\".format(ang)\n",
    "    kw[\"arrowprops\"].update({\"connectionstyle\": connectionstyle})\n",
    "    ax.annotate(language_labels[i], xy=(x, y), xytext=(1.35*np.sign(x), 1.4*y),\n",
    "                horizontalalignment='center',fontsize = 9, **kw)\n",
    "\n",
    "#Saving Chart\n",
    "plt.savefig('charts/language_pie.png',edgecolor=border_color,dpi=150)"
   ]
  },
  {
   "cell_type": "code",
   "execution_count": 546,
   "metadata": {},
   "outputs": [
    {
     "data": {
      "image/png": "[encoded data removed]",
      "text/plain": [
       "<Figure size 576x513 with 1 Axes>"
      ]
     },
     "metadata": {},
     "output_type": "display_data"
    }
   ],
   "source": [
    "#Plotting Categories\n",
    "number_of_tags = 10\n",
    "plot_tags = df_tags.tail(number_of_tags)\n",
    "color = cmap_list(plot_tags)\n",
    "fig, ax = plt.subplots(figsize=(8,7.125),linewidth=border_size)\n",
    "chart_type = 'barh'\n",
    "ax = plot_tags.plot('Tags','Count',kind=chart_type,ax=ax,width=0.8,ec='darkslategrey',color=color)\n",
    "ax.set_title(f'Top {number_of_tags} Kata Categories - {user}',loc='left',fontsize=14)\n",
    "ax.tick_params(axis='x',rotation=0)\n",
    "ax.get_legend().remove()\n",
    "ax.set_ylabel('')\n",
    "ax.set_xlabel('Kata Tag Occurrences')\n",
    "plt.tight_layout()\n",
    "\n",
    "#Setting a backround color\n",
    "fig.set_facecolor('white')\n",
    "\n",
    "# Text Annotations\n",
    "[x_offset,y_offset] = [-0.2,2.8] #Data refresh text offset\n",
    "chart_annotation(plot_tags,ax,chart_type,x_offset,y_offset)\n",
    "\n",
    "#Saving Chart\n",
    "plt.savefig('charts/top_tags.png',edgecolor = border_color,dpi = 150)"
   ]
  },
  {
   "cell_type": "markdown",
   "metadata": {},
   "source": [
    "### Initialising XlsxWriter Workbook And Exporting Tables to .xlsx"
   ]
  },
  {
   "cell_type": "markdown",
   "metadata": {},
   "source": [
    "#### Tables"
   ]
  },
  {
   "cell_type": "code",
   "execution_count": 605,
   "metadata": {},
   "outputs": [],
   "source": [
    "#-------------------------------------------------------\n",
    "#-------------.xlsx workbook initialisation-------------\n",
    "#-------------------------------------------------------\n",
    "\n",
    "#Excel Output Filepath\n",
    "excelpath = pathing('xlsx_data',f'codewars_stats_{user}.xlsx')\n",
    "\n",
    "#Generating .xlsx workbook in which to record dataframes for usage.\n",
    "writer = pd.ExcelWriter(excelpath,engine='xlsxwriter')   \n",
    "workbook=writer.book\n",
    "worksheet='' #Initialise variable\n",
    "startrow = 0 #Initialise variable\n",
    "startcol = 0 #Initialise variable"
   ]
  },
  {
   "cell_type": "code",
   "execution_count": 606,
   "metadata": {},
   "outputs": [],
   "source": [
    "#Summary Table\n",
    "data_table = df_profile\n",
    "sheet_name = 'Tables'\n",
    "title_str = f'{user} Codewars Stats since {date_str}'\n",
    "col_width_list = [31,60,22,26,15,15,17,11,60,11,11]\n",
    "[startrow,startcol,worksheet,workbook,writer] = xlsx_table_writer(data_table,sheet_name,col_width_list,\n",
    "                                                                title_str,startrow,startcol,\n",
    "                                                                worksheet,workbook,writer)"
   ]
  },
  {
   "cell_type": "code",
   "execution_count": 607,
   "metadata": {},
   "outputs": [],
   "source": [
    "#Summary Table\n",
    "data_table = df_kata_combined\n",
    "sheet_name = 'Tables'\n",
    "title_str = f'Kata Compeleted By {user} since {date_str}'\n",
    "[startrow,startcol,worksheet,workbook,writer] = xlsx_table_writer(data_table,sheet_name,col_width_list,\n",
    "                                                                title_str,startrow,startcol,\n",
    "                                                                worksheet,workbook,writer)"
   ]
  },
  {
   "cell_type": "markdown",
   "metadata": {},
   "source": [
    "#### Dashboard/Charts"
   ]
  },
  {
   "cell_type": "code",
   "execution_count": 608,
   "metadata": {},
   "outputs": [],
   "source": [
    "# Adding and changing active sheet\n",
    "sheet_name = 'Dashboard'\n",
    "try:\n",
    "    worksheet=workbook.add_worksheet(sheet_name)\n",
    "    writer.sheets[sheet_name] = worksheet \n",
    "    worksheet.set_zoom(95)\n",
    "except:\n",
    "    pass\n"
   ]
  },
  {
   "cell_type": "code",
   "execution_count": 609,
   "metadata": {},
   "outputs": [
    {
     "data": {
      "text/plain": [
       "0"
      ]
     },
     "execution_count": 609,
     "metadata": {},
     "output_type": "execute_result"
    }
   ],
   "source": [
    "# Positioning matplotlib charts onto xlsx dashboard\n",
    "v_space = 15\n",
    "worksheet.insert_image(0,0,'charts/monthly_complete.png')\n",
    "worksheet.insert_image(v_space,0,'charts/language_pie.png')\n",
    "worksheet.insert_image(v_space,8,'charts/rank_distribution.png')\n",
    "worksheet.insert_image(0,20,'charts/top_tags.png')"
   ]
  },
  {
   "cell_type": "code",
   "execution_count": 610,
   "metadata": {},
   "outputs": [],
   "source": [
    "#Save Excel File Close workbook instance\n",
    "writer.close()"
   ]
  }
 ],
 "metadata": {
  "kernelspec": {
   "display_name": "Python 3.10.5 64-bit",
   "language": "python",
   "name": "python3"
  },
  "language_info": {
   "codemirror_mode": {
    "name": "ipython",
    "version": 3
   },
   "file_extension": ".py",
   "mimetype": "text/x-python",
   "name": "python",
   "nbconvert_exporter": "python",
   "pygments_lexer": "ipython3",
   "version": "3.10.8"
  },
  "orig_nbformat": 4,
  "vscode": {
   "interpreter": {
    "hash": "e7370f93d1d0cde622a1f8e1c04877d8463912d04d973331ad4851f04de6915a"
   }
  }
 },
 "nbformat": 4,
 "nbformat_minor": 2
}
